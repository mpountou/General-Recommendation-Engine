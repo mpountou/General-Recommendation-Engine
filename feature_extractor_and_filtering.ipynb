{
  "nbformat": 4,
  "nbformat_minor": 0,
  "metadata": {
    "colab": {
      "name": "feature_extractor and filtering.ipynb",
      "provenance": [],
      "collapsed_sections": [
        "8kroXvEaVoI-"
      ]
    },
    "kernelspec": {
      "name": "python3",
      "display_name": "Python 3"
    }
  },
  "cells": [
    {
      "cell_type": "markdown",
      "metadata": {
        "id": "0x4jqwtf3pu9"
      },
      "source": [
        "# **`load dataset --> final.csv`**\r\n",
        "\r\n",
        " \r\n",
        "\r\n"
      ]
    },
    {
      "cell_type": "code",
      "metadata": {
        "colab": {
          "base_uri": "https://localhost:8080/",
          "height": 289
        },
        "id": "Z4tcFk2O3MlQ",
        "outputId": "cfd904ea-d6fc-4223-8909-976ab6c7ebd3"
      },
      "source": [
        "# read dataset\r\n",
        "import pandas as pd \r\n",
        "\r\n",
        "# load all users\r\n",
        "all_data = pd.read_csv('/content/drive/My Drive/final.csv')\r\n",
        "\r\n",
        "# get data for one random user\r\n",
        "data = all_data.loc[all_data['UserId'] == 0]\r\n",
        "data.head(2)"
      ],
      "execution_count": 6,
      "outputs": [
        {
          "output_type": "execute_result",
          "data": {
            "text/html": [
              "<div>\n",
              "<style scoped>\n",
              "    .dataframe tbody tr th:only-of-type {\n",
              "        vertical-align: middle;\n",
              "    }\n",
              "\n",
              "    .dataframe tbody tr th {\n",
              "        vertical-align: top;\n",
              "    }\n",
              "\n",
              "    .dataframe thead th {\n",
              "        text-align: right;\n",
              "    }\n",
              "</style>\n",
              "<table border=\"1\" class=\"dataframe\">\n",
              "  <thead>\n",
              "    <tr style=\"text-align: right;\">\n",
              "      <th></th>\n",
              "      <th>Unnamed: 0</th>\n",
              "      <th>UserId</th>\n",
              "      <th>ProductNo</th>\n",
              "      <th>Crawler</th>\n",
              "      <th>SearchWords</th>\n",
              "      <th>Image</th>\n",
              "      <th>url</th>\n",
              "      <th>ImageSource</th>\n",
              "      <th>SiteClothesHeadline</th>\n",
              "      <th>Color</th>\n",
              "      <th>Gender</th>\n",
              "      <th>Brand</th>\n",
              "      <th>Metadata</th>\n",
              "      <th>ProductCategory</th>\n",
              "      <th>ProductSubcategory</th>\n",
              "      <th>Length</th>\n",
              "      <th>Sleeve</th>\n",
              "      <th>CollarDesign</th>\n",
              "      <th>NeckDesign</th>\n",
              "      <th>Fit</th>\n",
              "      <th>gradeSystem</th>\n",
              "      <th>clicks</th>\n",
              "      <th>gradeUser</th>\n",
              "      <th>favorite</th>\n",
              "      <th>dashboard</th>\n",
              "    </tr>\n",
              "  </thead>\n",
              "  <tbody>\n",
              "    <tr>\n",
              "      <th>0</th>\n",
              "      <td>0</td>\n",
              "      <td>0</td>\n",
              "      <td>0</td>\n",
              "      <td>Asos</td>\n",
              "      <td>SHORTSET</td>\n",
              "      <td>/home/alexandros/Desktop/createCsvDiplo/AsosIm...</td>\n",
              "      <td>https://www.asos.com/in-the-style/in-the-style...</td>\n",
              "      <td>https://images.asos-media.com/products/in-the-...</td>\n",
              "      <td>In The Style x Billie Faiers motif t shirt and...</td>\n",
              "      <td>White</td>\n",
              "      <td>WOMAN</td>\n",
              "      <td>In The Style</td>\n",
              "      <td>Collaboration with influencer Billie Faiers - ...</td>\n",
              "      <td>SET</td>\n",
              "      <td>SHIRT,T-SHIRT</td>\n",
              "      <td>SHORT LENGTH</td>\n",
              "      <td>SHORT SLEEVE</td>\n",
              "      <td>NO COLLAR</td>\n",
              "      <td>ROUND NECK</td>\n",
              "      <td>RELAXED FIT</td>\n",
              "      <td>0</td>\n",
              "      <td>1</td>\n",
              "      <td>5</td>\n",
              "      <td>0</td>\n",
              "      <td>1</td>\n",
              "    </tr>\n",
              "    <tr>\n",
              "      <th>1</th>\n",
              "      <td>1</td>\n",
              "      <td>0</td>\n",
              "      <td>1</td>\n",
              "      <td>Asos</td>\n",
              "      <td>SHORTSET</td>\n",
              "      <td>/home/alexandros/Desktop/createCsvDiplo/AsosIm...</td>\n",
              "      <td>https://www.asos.com/bluebella/bluebella-abiga...</td>\n",
              "      <td>https://images.asos-media.com/products/bluebel...</td>\n",
              "      <td>Bluebella Abigail Satin Short Pyjama Set</td>\n",
              "      <td>Pink</td>\n",
              "      <td>WOMAN</td>\n",
              "      <td>BlueBella</td>\n",
              "      <td>You’re invited to this PJ party - Notch lapels...</td>\n",
              "      <td>SET</td>\n",
              "      <td>SET</td>\n",
              "      <td>SHORT LENGTH</td>\n",
              "      <td>SHORT SLEEVE</td>\n",
              "      <td>POLO COLLAR</td>\n",
              "      <td>COLLAR</td>\n",
              "      <td>REGULAR FIT</td>\n",
              "      <td>1</td>\n",
              "      <td>1</td>\n",
              "      <td>8</td>\n",
              "      <td>1</td>\n",
              "      <td>0</td>\n",
              "    </tr>\n",
              "  </tbody>\n",
              "</table>\n",
              "</div>"
            ],
            "text/plain": [
              "   Unnamed: 0  UserId  ProductNo  ... gradeUser favorite dashboard\n",
              "0           0       0          0  ...         5        0         1\n",
              "1           1       0          1  ...         8        1         0\n",
              "\n",
              "[2 rows x 25 columns]"
            ]
          },
          "metadata": {
            "tags": []
          },
          "execution_count": 6
        }
      ]
    },
    {
      "cell_type": "markdown",
      "metadata": {
        "id": "8kroXvEaVoI-"
      },
      "source": [
        "# **`functions used for pre-processing`**\n",
        "\n",
        "---\n",
        "\n",
        "\n",
        "\n"
      ]
    },
    {
      "cell_type": "code",
      "metadata": {
        "id": "P7b9tqeAVlzp"
      },
      "source": [
        " \n",
        "def lower_dimension_frame2(dataset,attr):\n",
        "  # initialize category array\n",
        "  categories = []\n",
        "  for att in attr:\n",
        "    # get all unique categories, split them from comma\n",
        "    for i in dataset[att].unique():\n",
        "      if type(i) == float:\n",
        "        i = 'NAN'\n",
        "      splited_ = re.split('/|,|to|and| |&|-|',i)\n",
        "      splited_ = [x.lower() for x in splited_]\n",
        "      for j in range(len(splited_)):\n",
        "        if splited_[j] not in categories:\n",
        "          categories.append(splited_[j])\n",
        "\n",
        "  # create a new array that contains all those categories\n",
        "  result_frame = pd.DataFrame()\n",
        "  result_array = np.zeros((len(dataset[attr]),len(categories)))\n",
        "  for att in attr:\n",
        "    for i in range(len(dataset[att])):\n",
        "      if type(dataset[att].tolist()[i]) == float:\n",
        "        splited_ = 'NAN'.split('/')\n",
        "      else:\n",
        "        splited_ = re.split('/|,|to|and| |&|-|',dataset[att].tolist()[i])\n",
        "        splited_ = [x.lower() for x in splited_]\n",
        "      for j in range(len(splited_)):\n",
        "        for k in range(len(categories)):\n",
        "          if splited_[j] == categories[k]:\n",
        "            result_array[i][k] = 1\n",
        "\n",
        "  result_frame = pd.DataFrame(result_array,\n",
        "                    columns= categories)\n",
        "\n",
        "\n",
        "  index_frame = dataset['ProductNo'].tolist()\n",
        "  result_frame['index'] = index_frame\n",
        "  result_frame = result_frame.set_index('index')\n",
        "  return result_frame\n",
        "\n",
        "\n",
        "def lower_dimension_frame(dataset,attr):\n",
        "  # initialize category array\n",
        "  categories = []\n",
        "  for att in attr:\n",
        "    # get all unique categories, split them from comma\n",
        "    for i in dataset[att].unique():\n",
        "      if type(i) == float:\n",
        "        i = 'NAN'\n",
        "      splited_ = i.split(',')\n",
        "      for j in range(len(splited_)):\n",
        "        if splited_[j] not in categories:\n",
        "          categories.append(splited_[j])\n",
        "\n",
        "  # create a new array that contains all those categories\n",
        "  result_frame = pd.DataFrame()\n",
        "  result_array = np.zeros((len(dataset[attr]),len(categories)))\n",
        "  for att in attr:\n",
        "    for i in range(len(dataset[att])):\n",
        "      if type(dataset[att].tolist()[i]) == float:\n",
        "        splited_ = 'NAN'.split(',')\n",
        "      else:\n",
        "        splited_ = dataset[att].tolist()[i].split(',')\n",
        "      for j in range(len(splited_)):\n",
        "        for k in range(len(categories)):\n",
        "          if splited_[j] == categories[k]:\n",
        "            result_array[i][k] = 1\n",
        "\n",
        "  result_frame = pd.DataFrame(result_array,\n",
        "                    columns= categories)\n",
        "\n",
        "\n",
        "  index_frame = dataset['ProductNo'].tolist()\n",
        "  result_frame['index'] = index_frame\n",
        "  result_frame = result_frame.set_index('index')\n",
        "  return result_frame\n",
        "\n",
        "def user_input_dataset():\n",
        "  # load dataset to temporary variable\n",
        "  temp_dataset = data\n",
        "\n",
        "  # available search words in dataset\n",
        "  all_searchWords = data['SearchWords'].tolist()\n",
        "\n",
        "  # make search words to lower case\n",
        "  all_searchWords = [x.lower() for x in all_searchWords]\n",
        "\n",
        "  # remove duplicate search words\n",
        "  all_searchWords = set(all_searchWords)\n",
        "\n",
        "  # info about search words\n",
        "  print('There are total: ',len(all_searchWords),' search words ')\n",
        "\n",
        "  # user searching clothes category\n",
        "  input_searchWords = input(\"Please enter your search words:  \")\n",
        "\n",
        "  # user searching clothes category\n",
        "  numOf_relatedWords = input(\"Please enter the number of releated words we wanna search :  \")\n",
        "  numOf_relatedWords = int(numOf_relatedWords)\n",
        "\n",
        "  # find matches based on dataset searchwords\n",
        "  matches = difflib.get_close_matches(input_searchWords, all_searchWords, numOf_relatedWords )\n",
        "\n",
        "  # print matches\n",
        "  print('Result found: ',matches)\n",
        "\n",
        "  # merge result of matches\n",
        "  dataFrames = []\n",
        "  for i in matches:\n",
        "    dataFrames.append(data.loc[data['SearchWords'] == i.upper()])\n",
        "\n",
        "  # all available clothes based on user search\n",
        "  totalClothes = pd.concat(dataFrames)\n",
        "\n",
        "  temp_dataset = totalClothes\n",
        "\n",
        "  return temp_dataset\n",
        "\n",
        "def frame_merger(dataset):\n",
        "  merged_frame = pd.merge(prod_frame,fit_frame,on='index')\n",
        "  #merged_frame = pd.merge(merged_frame,length_frame,on='index')\n",
        "  #merged_frame = pd.merge(merged_frame,color_frame,on='index')\n",
        "  merged_frame = pd.merge(merged_frame,neck_frame,on='index')\n",
        "  merged_frame = pd.merge(merged_frame,sleeve_frame,on='index')\n",
        "  merged_frame = pd.merge(merged_frame,search_word_Dataframe,on='index')\n",
        "  merged_frame['url'] = dataset['ImageSource'].tolist()\n",
        "  merged_frame['gradeSystem'] = dataset['gradeSystem'].tolist()\n",
        "  merged_frame['grade'] = dataset['gradeUser'].tolist()\n",
        "  \n",
        "  #merged_frame['dashboard'] = dataset['dashboard'].tolist()\n",
        "  #merged_frame['favorite'] = dataset['favorite'].tolist()\n",
        "  #merged_frame['clicks'] = dataset['clicks'].tolist()\n",
        "  url_all = merged_frame['url']\n",
        "  grades_all = merged_frame['grade'].tolist()\n",
        "  grade_sys = merged_frame['gradeSystem'].tolist()\n",
        "  merged_frame = merged_frame.drop(['grade'],axis=1)\n",
        "  merged_frame = merged_frame.drop(['gradeSystem'],axis=1)\n",
        "  merged_frame = merged_frame.drop(['url'],axis=1)\n",
        "  return merged_frame,grades_all,grade_sys,url_all\n",
        " "
      ],
      "execution_count": 9,
      "outputs": []
    },
    {
      "cell_type": "markdown",
      "metadata": {
        "id": "BG7ChfdpQEnV"
      },
      "source": [
        "# **`preprocessing data`**"
      ]
    },
    {
      "cell_type": "code",
      "metadata": {
        "id": "f92NW-tr5IaB"
      },
      "source": [
        "import numpy as np"
      ],
      "execution_count": 11,
      "outputs": []
    },
    {
      "cell_type": "markdown",
      "metadata": {
        "id": "Xoj9EmdzNWVW"
      },
      "source": [
        "## **`Preprocessing Color`**\n",
        "\n",
        "Reduced categories from 881 to 569"
      ]
    },
    {
      "cell_type": "code",
      "metadata": {
        "id": "P0J_UvCWNWVa",
        "colab": {
          "base_uri": "https://localhost:8080/",
          "height": 261
        },
        "outputId": "9969432c-10ca-4f63-81ac-5906a9bd5683"
      },
      "source": [
        "\n",
        "color_frame = lower_dimension_frame2(data,['Color'])\n",
        "\n",
        "color_frame.head(3)"
      ],
      "execution_count": 13,
      "outputs": [
        {
          "output_type": "stream",
          "text": [
            "/usr/lib/python3.6/re.py:212: FutureWarning: split() requires a non-empty pattern match.\n",
            "  return _compile(pattern, flags).split(string, maxsplit)\n"
          ],
          "name": "stderr"
        },
        {
          "output_type": "execute_result",
          "data": {
            "text/html": [
              "<div>\n",
              "<style scoped>\n",
              "    .dataframe tbody tr th:only-of-type {\n",
              "        vertical-align: middle;\n",
              "    }\n",
              "\n",
              "    .dataframe tbody tr th {\n",
              "        vertical-align: top;\n",
              "    }\n",
              "\n",
              "    .dataframe thead th {\n",
              "        text-align: right;\n",
              "    }\n",
              "</style>\n",
              "<table border=\"1\" class=\"dataframe\">\n",
              "  <thead>\n",
              "    <tr style=\"text-align: right;\">\n",
              "      <th></th>\n",
              "      <th>white</th>\n",
              "      <th>pink</th>\n",
              "      <th>multi</th>\n",
              "      <th>black</th>\n",
              "      <th></th>\n",
              "      <th>safari</th>\n",
              "      <th>print</th>\n",
              "      <th>petrol</th>\n",
              "      <th>blue</th>\n",
              "      <th>mint</th>\n",
              "      <th>lilac</th>\n",
              "      <th>beige</th>\n",
              "      <th>cordovan</th>\n",
              "      <th>antique</th>\n",
              "      <th>watermelon</th>\n",
              "      <th>grey</th>\n",
              "      <th>light</th>\n",
              "      <th>red</th>\n",
              "      <th>yellow</th>\n",
              "      <th>peach</th>\n",
              "      <th>olive</th>\n",
              "      <th>green</th>\n",
              "      <th>rose</th>\n",
              "      <th>ivory</th>\n",
              "      <th>navy</th>\n",
              "      <th>watercolour</th>\n",
              "      <th>floral</th>\n",
              "      <th>no</th>\n",
              "      <th>colour</th>\n",
              "      <th>monster</th>\n",
              "      <th>mattes</th>\n",
              "      <th>large</th>\n",
              "      <th>it</th>\n",
              "      <th>up</th>\n",
              "      <th>big</th>\n",
              "      <th>love</th>\n",
              "      <th>medium</th>\n",
              "      <th>dark</th>\n",
              "      <th>deep</th>\n",
              "      <th>neutral</th>\n",
              "      <th>...</th>\n",
              "      <th>waist</th>\n",
              "      <th>mu1</th>\n",
              "      <th>aries</th>\n",
              "      <th>bk</th>\n",
              "      <th>com</th>\n",
              "      <th>care</th>\n",
              "      <th>marsala</th>\n",
              "      <th>beetroot</th>\n",
              "      <th>excalibur</th>\n",
              "      <th>latte</th>\n",
              "      <th>mini</th>\n",
              "      <th>bloom</th>\n",
              "      <th>grapefruit</th>\n",
              "      <th>bluebell</th>\n",
              "      <th>brick</th>\n",
              "      <th>rainbow</th>\n",
              "      <th>jaquard</th>\n",
              "      <th>ducky</th>\n",
              "      <th>nal</th>\n",
              "      <th>jetst</th>\n",
              "      <th>flclover</th>\n",
              "      <th>tonal</th>\n",
              "      <th>ombre</th>\n",
              "      <th>meadow</th>\n",
              "      <th>pine</th>\n",
              "      <th>armory</th>\n",
              "      <th>shiny</th>\n",
              "      <th>str</th>\n",
              "      <th>001</th>\n",
              "      <th>taylor</th>\n",
              "      <th>p</th>\n",
              "      <th>fu</th>\n",
              "      <th>auburn</th>\n",
              "      <th>acid</th>\n",
              "      <th>paisley</th>\n",
              "      <th>pretty</th>\n",
              "      <th>72</th>\n",
              "      <th>arctic</th>\n",
              "      <th>grape</th>\n",
              "      <th>faded</th>\n",
              "    </tr>\n",
              "    <tr>\n",
              "      <th>index</th>\n",
              "      <th></th>\n",
              "      <th></th>\n",
              "      <th></th>\n",
              "      <th></th>\n",
              "      <th></th>\n",
              "      <th></th>\n",
              "      <th></th>\n",
              "      <th></th>\n",
              "      <th></th>\n",
              "      <th></th>\n",
              "      <th></th>\n",
              "      <th></th>\n",
              "      <th></th>\n",
              "      <th></th>\n",
              "      <th></th>\n",
              "      <th></th>\n",
              "      <th></th>\n",
              "      <th></th>\n",
              "      <th></th>\n",
              "      <th></th>\n",
              "      <th></th>\n",
              "      <th></th>\n",
              "      <th></th>\n",
              "      <th></th>\n",
              "      <th></th>\n",
              "      <th></th>\n",
              "      <th></th>\n",
              "      <th></th>\n",
              "      <th></th>\n",
              "      <th></th>\n",
              "      <th></th>\n",
              "      <th></th>\n",
              "      <th></th>\n",
              "      <th></th>\n",
              "      <th></th>\n",
              "      <th></th>\n",
              "      <th></th>\n",
              "      <th></th>\n",
              "      <th></th>\n",
              "      <th></th>\n",
              "      <th></th>\n",
              "      <th></th>\n",
              "      <th></th>\n",
              "      <th></th>\n",
              "      <th></th>\n",
              "      <th></th>\n",
              "      <th></th>\n",
              "      <th></th>\n",
              "      <th></th>\n",
              "      <th></th>\n",
              "      <th></th>\n",
              "      <th></th>\n",
              "      <th></th>\n",
              "      <th></th>\n",
              "      <th></th>\n",
              "      <th></th>\n",
              "      <th></th>\n",
              "      <th></th>\n",
              "      <th></th>\n",
              "      <th></th>\n",
              "      <th></th>\n",
              "      <th></th>\n",
              "      <th></th>\n",
              "      <th></th>\n",
              "      <th></th>\n",
              "      <th></th>\n",
              "      <th></th>\n",
              "      <th></th>\n",
              "      <th></th>\n",
              "      <th></th>\n",
              "      <th></th>\n",
              "      <th></th>\n",
              "      <th></th>\n",
              "      <th></th>\n",
              "      <th></th>\n",
              "      <th></th>\n",
              "      <th></th>\n",
              "      <th></th>\n",
              "      <th></th>\n",
              "      <th></th>\n",
              "      <th></th>\n",
              "    </tr>\n",
              "  </thead>\n",
              "  <tbody>\n",
              "    <tr>\n",
              "      <th>0</th>\n",
              "      <td>1.0</td>\n",
              "      <td>0.0</td>\n",
              "      <td>0.0</td>\n",
              "      <td>0.0</td>\n",
              "      <td>0.0</td>\n",
              "      <td>0.0</td>\n",
              "      <td>0.0</td>\n",
              "      <td>0.0</td>\n",
              "      <td>0.0</td>\n",
              "      <td>0.0</td>\n",
              "      <td>0.0</td>\n",
              "      <td>0.0</td>\n",
              "      <td>0.0</td>\n",
              "      <td>0.0</td>\n",
              "      <td>0.0</td>\n",
              "      <td>0.0</td>\n",
              "      <td>0.0</td>\n",
              "      <td>0.0</td>\n",
              "      <td>0.0</td>\n",
              "      <td>0.0</td>\n",
              "      <td>0.0</td>\n",
              "      <td>0.0</td>\n",
              "      <td>0.0</td>\n",
              "      <td>0.0</td>\n",
              "      <td>0.0</td>\n",
              "      <td>0.0</td>\n",
              "      <td>0.0</td>\n",
              "      <td>0.0</td>\n",
              "      <td>0.0</td>\n",
              "      <td>0.0</td>\n",
              "      <td>0.0</td>\n",
              "      <td>0.0</td>\n",
              "      <td>0.0</td>\n",
              "      <td>0.0</td>\n",
              "      <td>0.0</td>\n",
              "      <td>0.0</td>\n",
              "      <td>0.0</td>\n",
              "      <td>0.0</td>\n",
              "      <td>0.0</td>\n",
              "      <td>0.0</td>\n",
              "      <td>...</td>\n",
              "      <td>0.0</td>\n",
              "      <td>0.0</td>\n",
              "      <td>0.0</td>\n",
              "      <td>0.0</td>\n",
              "      <td>0.0</td>\n",
              "      <td>0.0</td>\n",
              "      <td>0.0</td>\n",
              "      <td>0.0</td>\n",
              "      <td>0.0</td>\n",
              "      <td>0.0</td>\n",
              "      <td>0.0</td>\n",
              "      <td>0.0</td>\n",
              "      <td>0.0</td>\n",
              "      <td>0.0</td>\n",
              "      <td>0.0</td>\n",
              "      <td>0.0</td>\n",
              "      <td>0.0</td>\n",
              "      <td>0.0</td>\n",
              "      <td>0.0</td>\n",
              "      <td>0.0</td>\n",
              "      <td>0.0</td>\n",
              "      <td>0.0</td>\n",
              "      <td>0.0</td>\n",
              "      <td>0.0</td>\n",
              "      <td>0.0</td>\n",
              "      <td>0.0</td>\n",
              "      <td>0.0</td>\n",
              "      <td>0.0</td>\n",
              "      <td>0.0</td>\n",
              "      <td>0.0</td>\n",
              "      <td>0.0</td>\n",
              "      <td>0.0</td>\n",
              "      <td>0.0</td>\n",
              "      <td>0.0</td>\n",
              "      <td>0.0</td>\n",
              "      <td>0.0</td>\n",
              "      <td>0.0</td>\n",
              "      <td>0.0</td>\n",
              "      <td>0.0</td>\n",
              "      <td>0.0</td>\n",
              "    </tr>\n",
              "    <tr>\n",
              "      <th>1</th>\n",
              "      <td>0.0</td>\n",
              "      <td>1.0</td>\n",
              "      <td>0.0</td>\n",
              "      <td>0.0</td>\n",
              "      <td>0.0</td>\n",
              "      <td>0.0</td>\n",
              "      <td>0.0</td>\n",
              "      <td>0.0</td>\n",
              "      <td>0.0</td>\n",
              "      <td>0.0</td>\n",
              "      <td>0.0</td>\n",
              "      <td>0.0</td>\n",
              "      <td>0.0</td>\n",
              "      <td>0.0</td>\n",
              "      <td>0.0</td>\n",
              "      <td>0.0</td>\n",
              "      <td>0.0</td>\n",
              "      <td>0.0</td>\n",
              "      <td>0.0</td>\n",
              "      <td>0.0</td>\n",
              "      <td>0.0</td>\n",
              "      <td>0.0</td>\n",
              "      <td>0.0</td>\n",
              "      <td>0.0</td>\n",
              "      <td>0.0</td>\n",
              "      <td>0.0</td>\n",
              "      <td>0.0</td>\n",
              "      <td>0.0</td>\n",
              "      <td>0.0</td>\n",
              "      <td>0.0</td>\n",
              "      <td>0.0</td>\n",
              "      <td>0.0</td>\n",
              "      <td>0.0</td>\n",
              "      <td>0.0</td>\n",
              "      <td>0.0</td>\n",
              "      <td>0.0</td>\n",
              "      <td>0.0</td>\n",
              "      <td>0.0</td>\n",
              "      <td>0.0</td>\n",
              "      <td>0.0</td>\n",
              "      <td>...</td>\n",
              "      <td>0.0</td>\n",
              "      <td>0.0</td>\n",
              "      <td>0.0</td>\n",
              "      <td>0.0</td>\n",
              "      <td>0.0</td>\n",
              "      <td>0.0</td>\n",
              "      <td>0.0</td>\n",
              "      <td>0.0</td>\n",
              "      <td>0.0</td>\n",
              "      <td>0.0</td>\n",
              "      <td>0.0</td>\n",
              "      <td>0.0</td>\n",
              "      <td>0.0</td>\n",
              "      <td>0.0</td>\n",
              "      <td>0.0</td>\n",
              "      <td>0.0</td>\n",
              "      <td>0.0</td>\n",
              "      <td>0.0</td>\n",
              "      <td>0.0</td>\n",
              "      <td>0.0</td>\n",
              "      <td>0.0</td>\n",
              "      <td>0.0</td>\n",
              "      <td>0.0</td>\n",
              "      <td>0.0</td>\n",
              "      <td>0.0</td>\n",
              "      <td>0.0</td>\n",
              "      <td>0.0</td>\n",
              "      <td>0.0</td>\n",
              "      <td>0.0</td>\n",
              "      <td>0.0</td>\n",
              "      <td>0.0</td>\n",
              "      <td>0.0</td>\n",
              "      <td>0.0</td>\n",
              "      <td>0.0</td>\n",
              "      <td>0.0</td>\n",
              "      <td>0.0</td>\n",
              "      <td>0.0</td>\n",
              "      <td>0.0</td>\n",
              "      <td>0.0</td>\n",
              "      <td>0.0</td>\n",
              "    </tr>\n",
              "    <tr>\n",
              "      <th>2</th>\n",
              "      <td>0.0</td>\n",
              "      <td>0.0</td>\n",
              "      <td>1.0</td>\n",
              "      <td>0.0</td>\n",
              "      <td>0.0</td>\n",
              "      <td>0.0</td>\n",
              "      <td>0.0</td>\n",
              "      <td>0.0</td>\n",
              "      <td>0.0</td>\n",
              "      <td>0.0</td>\n",
              "      <td>0.0</td>\n",
              "      <td>0.0</td>\n",
              "      <td>0.0</td>\n",
              "      <td>0.0</td>\n",
              "      <td>0.0</td>\n",
              "      <td>0.0</td>\n",
              "      <td>0.0</td>\n",
              "      <td>0.0</td>\n",
              "      <td>0.0</td>\n",
              "      <td>0.0</td>\n",
              "      <td>0.0</td>\n",
              "      <td>0.0</td>\n",
              "      <td>0.0</td>\n",
              "      <td>0.0</td>\n",
              "      <td>0.0</td>\n",
              "      <td>0.0</td>\n",
              "      <td>0.0</td>\n",
              "      <td>0.0</td>\n",
              "      <td>0.0</td>\n",
              "      <td>0.0</td>\n",
              "      <td>0.0</td>\n",
              "      <td>0.0</td>\n",
              "      <td>0.0</td>\n",
              "      <td>0.0</td>\n",
              "      <td>0.0</td>\n",
              "      <td>0.0</td>\n",
              "      <td>0.0</td>\n",
              "      <td>0.0</td>\n",
              "      <td>0.0</td>\n",
              "      <td>0.0</td>\n",
              "      <td>...</td>\n",
              "      <td>0.0</td>\n",
              "      <td>0.0</td>\n",
              "      <td>0.0</td>\n",
              "      <td>0.0</td>\n",
              "      <td>0.0</td>\n",
              "      <td>0.0</td>\n",
              "      <td>0.0</td>\n",
              "      <td>0.0</td>\n",
              "      <td>0.0</td>\n",
              "      <td>0.0</td>\n",
              "      <td>0.0</td>\n",
              "      <td>0.0</td>\n",
              "      <td>0.0</td>\n",
              "      <td>0.0</td>\n",
              "      <td>0.0</td>\n",
              "      <td>0.0</td>\n",
              "      <td>0.0</td>\n",
              "      <td>0.0</td>\n",
              "      <td>0.0</td>\n",
              "      <td>0.0</td>\n",
              "      <td>0.0</td>\n",
              "      <td>0.0</td>\n",
              "      <td>0.0</td>\n",
              "      <td>0.0</td>\n",
              "      <td>0.0</td>\n",
              "      <td>0.0</td>\n",
              "      <td>0.0</td>\n",
              "      <td>0.0</td>\n",
              "      <td>0.0</td>\n",
              "      <td>0.0</td>\n",
              "      <td>0.0</td>\n",
              "      <td>0.0</td>\n",
              "      <td>0.0</td>\n",
              "      <td>0.0</td>\n",
              "      <td>0.0</td>\n",
              "      <td>0.0</td>\n",
              "      <td>0.0</td>\n",
              "      <td>0.0</td>\n",
              "      <td>0.0</td>\n",
              "      <td>0.0</td>\n",
              "    </tr>\n",
              "  </tbody>\n",
              "</table>\n",
              "<p>3 rows × 569 columns</p>\n",
              "</div>"
            ],
            "text/plain": [
              "       white  pink  multi  black       ...  pretty   72  arctic  grape  faded\n",
              "index                                  ...                                   \n",
              "0        1.0   0.0    0.0    0.0  0.0  ...     0.0  0.0     0.0    0.0    0.0\n",
              "1        0.0   1.0    0.0    0.0  0.0  ...     0.0  0.0     0.0    0.0    0.0\n",
              "2        0.0   0.0    1.0    0.0  0.0  ...     0.0  0.0     0.0    0.0    0.0\n",
              "\n",
              "[3 rows x 569 columns]"
            ]
          },
          "metadata": {
            "tags": []
          },
          "execution_count": 13
        }
      ]
    },
    {
      "cell_type": "code",
      "metadata": {
        "id": "YWMK7dw8NWVm",
        "colab": {
          "base_uri": "https://localhost:8080/"
        },
        "outputId": "21be6781-c258-4c92-ea71-cacdac978eca"
      },
      "source": [
        "len(data['Color'].unique())"
      ],
      "execution_count": 14,
      "outputs": [
        {
          "output_type": "execute_result",
          "data": {
            "text/plain": [
              "881"
            ]
          },
          "metadata": {
            "tags": []
          },
          "execution_count": 14
        }
      ]
    },
    {
      "cell_type": "code",
      "metadata": {
        "id": "FdaefkuwNWVx",
        "colab": {
          "base_uri": "https://localhost:8080/"
        },
        "outputId": "6cd1c9b7-25da-4f5c-ea9a-12a3cbfb2066"
      },
      "source": [
        "len(np.array(color_frame.columns))\n"
      ],
      "execution_count": 15,
      "outputs": [
        {
          "output_type": "execute_result",
          "data": {
            "text/plain": [
              "569"
            ]
          },
          "metadata": {
            "tags": []
          },
          "execution_count": 15
        }
      ]
    },
    {
      "cell_type": "markdown",
      "metadata": {
        "id": "xO8WASWAXq0d"
      },
      "source": [
        "## **`Preprocessing Fit`**\n",
        "\n",
        "Reduced categories from 16 to 5"
      ]
    },
    {
      "cell_type": "code",
      "metadata": {
        "id": "vBdABGeGYDPE",
        "colab": {
          "base_uri": "https://localhost:8080/",
          "height": 175
        },
        "outputId": "06e224d0-c044-4300-d297-55403eb140c7"
      },
      "source": [
        " \n",
        "fit_frame = lower_dimension_frame(data,['Fit'])\n",
        "\n",
        "fit_frame.head(3)"
      ],
      "execution_count": 16,
      "outputs": [
        {
          "output_type": "execute_result",
          "data": {
            "text/html": [
              "<div>\n",
              "<style scoped>\n",
              "    .dataframe tbody tr th:only-of-type {\n",
              "        vertical-align: middle;\n",
              "    }\n",
              "\n",
              "    .dataframe tbody tr th {\n",
              "        vertical-align: top;\n",
              "    }\n",
              "\n",
              "    .dataframe thead th {\n",
              "        text-align: right;\n",
              "    }\n",
              "</style>\n",
              "<table border=\"1\" class=\"dataframe\">\n",
              "  <thead>\n",
              "    <tr style=\"text-align: right;\">\n",
              "      <th></th>\n",
              "      <th>RELAXED FIT</th>\n",
              "      <th>REGULAR FIT</th>\n",
              "      <th>SLIM FIT</th>\n",
              "      <th>CARGO</th>\n",
              "      <th>BIKER</th>\n",
              "    </tr>\n",
              "    <tr>\n",
              "      <th>index</th>\n",
              "      <th></th>\n",
              "      <th></th>\n",
              "      <th></th>\n",
              "      <th></th>\n",
              "      <th></th>\n",
              "    </tr>\n",
              "  </thead>\n",
              "  <tbody>\n",
              "    <tr>\n",
              "      <th>0</th>\n",
              "      <td>1.0</td>\n",
              "      <td>0.0</td>\n",
              "      <td>0.0</td>\n",
              "      <td>0.0</td>\n",
              "      <td>0.0</td>\n",
              "    </tr>\n",
              "    <tr>\n",
              "      <th>1</th>\n",
              "      <td>0.0</td>\n",
              "      <td>1.0</td>\n",
              "      <td>0.0</td>\n",
              "      <td>0.0</td>\n",
              "      <td>0.0</td>\n",
              "    </tr>\n",
              "    <tr>\n",
              "      <th>2</th>\n",
              "      <td>0.0</td>\n",
              "      <td>1.0</td>\n",
              "      <td>0.0</td>\n",
              "      <td>0.0</td>\n",
              "      <td>0.0</td>\n",
              "    </tr>\n",
              "  </tbody>\n",
              "</table>\n",
              "</div>"
            ],
            "text/plain": [
              "       RELAXED FIT  REGULAR FIT  SLIM FIT  CARGO  BIKER\n",
              "index                                                  \n",
              "0              1.0          0.0       0.0    0.0    0.0\n",
              "1              0.0          1.0       0.0    0.0    0.0\n",
              "2              0.0          1.0       0.0    0.0    0.0"
            ]
          },
          "metadata": {
            "tags": []
          },
          "execution_count": 16
        }
      ]
    },
    {
      "cell_type": "code",
      "metadata": {
        "id": "jWZ6r5MlaD8b",
        "colab": {
          "base_uri": "https://localhost:8080/"
        },
        "outputId": "37b48de4-7a7e-4a36-de81-e33b2f752433"
      },
      "source": [
        "len(all_data['Fit'].unique())"
      ],
      "execution_count": 17,
      "outputs": [
        {
          "output_type": "execute_result",
          "data": {
            "text/plain": [
              "16"
            ]
          },
          "metadata": {
            "tags": []
          },
          "execution_count": 17
        }
      ]
    },
    {
      "cell_type": "code",
      "metadata": {
        "id": "7nozGQ6yaEC0",
        "colab": {
          "base_uri": "https://localhost:8080/"
        },
        "outputId": "c71a6e5a-754e-4052-85c5-15f400c99467"
      },
      "source": [
        "len(fit_frame.columns)"
      ],
      "execution_count": 18,
      "outputs": [
        {
          "output_type": "execute_result",
          "data": {
            "text/plain": [
              "5"
            ]
          },
          "metadata": {
            "tags": []
          },
          "execution_count": 18
        }
      ]
    },
    {
      "cell_type": "markdown",
      "metadata": {
        "id": "u_1UVxhTX4qr"
      },
      "source": [
        "## **`Preprocessing Neck Design`**\n",
        "\n",
        "Reduced categories from 20 to 7"
      ]
    },
    {
      "cell_type": "code",
      "metadata": {
        "id": "K11R9CX0ZsvS",
        "colab": {
          "base_uri": "https://localhost:8080/",
          "height": 144
        },
        "outputId": "fc5e5204-06f0-49d4-9b5c-81ec90c0971e"
      },
      "source": [
        " \n",
        "neck_frame = lower_dimension_frame(data,['NeckDesign'])\n",
        "\n",
        "neck_frame.head(2)"
      ],
      "execution_count": 19,
      "outputs": [
        {
          "output_type": "execute_result",
          "data": {
            "text/html": [
              "<div>\n",
              "<style scoped>\n",
              "    .dataframe tbody tr th:only-of-type {\n",
              "        vertical-align: middle;\n",
              "    }\n",
              "\n",
              "    .dataframe tbody tr th {\n",
              "        vertical-align: top;\n",
              "    }\n",
              "\n",
              "    .dataframe thead th {\n",
              "        text-align: right;\n",
              "    }\n",
              "</style>\n",
              "<table border=\"1\" class=\"dataframe\">\n",
              "  <thead>\n",
              "    <tr style=\"text-align: right;\">\n",
              "      <th></th>\n",
              "      <th>ROUND NECK</th>\n",
              "      <th>COLLAR</th>\n",
              "      <th>V NECK</th>\n",
              "      <th>HOODED</th>\n",
              "      <th>OFF SHOULDER</th>\n",
              "      <th>HALTERNECK</th>\n",
              "      <th>TURTLENECK</th>\n",
              "    </tr>\n",
              "    <tr>\n",
              "      <th>index</th>\n",
              "      <th></th>\n",
              "      <th></th>\n",
              "      <th></th>\n",
              "      <th></th>\n",
              "      <th></th>\n",
              "      <th></th>\n",
              "      <th></th>\n",
              "    </tr>\n",
              "  </thead>\n",
              "  <tbody>\n",
              "    <tr>\n",
              "      <th>0</th>\n",
              "      <td>1.0</td>\n",
              "      <td>0.0</td>\n",
              "      <td>0.0</td>\n",
              "      <td>0.0</td>\n",
              "      <td>0.0</td>\n",
              "      <td>0.0</td>\n",
              "      <td>0.0</td>\n",
              "    </tr>\n",
              "    <tr>\n",
              "      <th>1</th>\n",
              "      <td>0.0</td>\n",
              "      <td>1.0</td>\n",
              "      <td>0.0</td>\n",
              "      <td>0.0</td>\n",
              "      <td>0.0</td>\n",
              "      <td>0.0</td>\n",
              "      <td>0.0</td>\n",
              "    </tr>\n",
              "  </tbody>\n",
              "</table>\n",
              "</div>"
            ],
            "text/plain": [
              "       ROUND NECK  COLLAR  V NECK  HOODED  OFF SHOULDER  HALTERNECK  TURTLENECK\n",
              "index                                                                          \n",
              "0             1.0     0.0     0.0     0.0           0.0         0.0         0.0\n",
              "1             0.0     1.0     0.0     0.0           0.0         0.0         0.0"
            ]
          },
          "metadata": {
            "tags": []
          },
          "execution_count": 19
        }
      ]
    },
    {
      "cell_type": "code",
      "metadata": {
        "id": "nqU9bXyrQ0Bl",
        "colab": {
          "base_uri": "https://localhost:8080/"
        },
        "outputId": "e1343abe-bfb5-4419-a328-534749351884"
      },
      "source": [
        "all_data['NeckDesign'].nunique()"
      ],
      "execution_count": 20,
      "outputs": [
        {
          "output_type": "execute_result",
          "data": {
            "text/plain": [
              "20"
            ]
          },
          "metadata": {
            "tags": []
          },
          "execution_count": 20
        }
      ]
    },
    {
      "cell_type": "code",
      "metadata": {
        "id": "_neuLrsWafcK",
        "colab": {
          "base_uri": "https://localhost:8080/"
        },
        "outputId": "a9211265-a051-4ed9-e719-516b5b8c63c1"
      },
      "source": [
        "len(neck_frame.columns)"
      ],
      "execution_count": 21,
      "outputs": [
        {
          "output_type": "execute_result",
          "data": {
            "text/plain": [
              "7"
            ]
          },
          "metadata": {
            "tags": []
          },
          "execution_count": 21
        }
      ]
    },
    {
      "cell_type": "markdown",
      "metadata": {
        "id": "4CpHVOSscXsM"
      },
      "source": [
        "## **`Preprocessing Length`**\n",
        "\n",
        "Reduced categories from 7 to 6"
      ]
    },
    {
      "cell_type": "code",
      "metadata": {
        "id": "UDMJph4WaiCY",
        "colab": {
          "base_uri": "https://localhost:8080/",
          "height": 144
        },
        "outputId": "3a86911d-b069-41e3-e768-414a51790030"
      },
      "source": [
        " \n",
        "length_frame = lower_dimension_frame(data,['Length'])\n",
        "length_frame.head(2)"
      ],
      "execution_count": 22,
      "outputs": [
        {
          "output_type": "execute_result",
          "data": {
            "text/html": [
              "<div>\n",
              "<style scoped>\n",
              "    .dataframe tbody tr th:only-of-type {\n",
              "        vertical-align: middle;\n",
              "    }\n",
              "\n",
              "    .dataframe tbody tr th {\n",
              "        vertical-align: top;\n",
              "    }\n",
              "\n",
              "    .dataframe thead th {\n",
              "        text-align: right;\n",
              "    }\n",
              "</style>\n",
              "<table border=\"1\" class=\"dataframe\">\n",
              "  <thead>\n",
              "    <tr style=\"text-align: right;\">\n",
              "      <th></th>\n",
              "      <th>SHORT LENGTH</th>\n",
              "      <th>MEDIUM LENGTH</th>\n",
              "      <th>KNEE LENGTH</th>\n",
              "      <th>LONG</th>\n",
              "      <th>CAPRI</th>\n",
              "      <th>3/4 LENGTH</th>\n",
              "    </tr>\n",
              "    <tr>\n",
              "      <th>index</th>\n",
              "      <th></th>\n",
              "      <th></th>\n",
              "      <th></th>\n",
              "      <th></th>\n",
              "      <th></th>\n",
              "      <th></th>\n",
              "    </tr>\n",
              "  </thead>\n",
              "  <tbody>\n",
              "    <tr>\n",
              "      <th>0</th>\n",
              "      <td>1.0</td>\n",
              "      <td>0.0</td>\n",
              "      <td>0.0</td>\n",
              "      <td>0.0</td>\n",
              "      <td>0.0</td>\n",
              "      <td>0.0</td>\n",
              "    </tr>\n",
              "    <tr>\n",
              "      <th>1</th>\n",
              "      <td>1.0</td>\n",
              "      <td>0.0</td>\n",
              "      <td>0.0</td>\n",
              "      <td>0.0</td>\n",
              "      <td>0.0</td>\n",
              "      <td>0.0</td>\n",
              "    </tr>\n",
              "  </tbody>\n",
              "</table>\n",
              "</div>"
            ],
            "text/plain": [
              "       SHORT LENGTH  MEDIUM LENGTH  KNEE LENGTH  LONG  CAPRI  3/4 LENGTH\n",
              "index                                                                   \n",
              "0               1.0            0.0          0.0   0.0    0.0         0.0\n",
              "1               1.0            0.0          0.0   0.0    0.0         0.0"
            ]
          },
          "metadata": {
            "tags": []
          },
          "execution_count": 22
        }
      ]
    },
    {
      "cell_type": "code",
      "metadata": {
        "id": "4GhXFbXyA0uF",
        "colab": {
          "base_uri": "https://localhost:8080/"
        },
        "outputId": "385018a8-9d18-4dd9-b13b-6b13a899a71b"
      },
      "source": [
        "len(all_data['Length'].unique())"
      ],
      "execution_count": 23,
      "outputs": [
        {
          "output_type": "execute_result",
          "data": {
            "text/plain": [
              "7"
            ]
          },
          "metadata": {
            "tags": []
          },
          "execution_count": 23
        }
      ]
    },
    {
      "cell_type": "code",
      "metadata": {
        "id": "giDfSrwhczBY",
        "colab": {
          "base_uri": "https://localhost:8080/"
        },
        "outputId": "acc2eba7-ab9a-4ed4-f9cc-d62e96f9345b"
      },
      "source": [
        "len(length_frame.columns)"
      ],
      "execution_count": 24,
      "outputs": [
        {
          "output_type": "execute_result",
          "data": {
            "text/plain": [
              "6"
            ]
          },
          "metadata": {
            "tags": []
          },
          "execution_count": 24
        }
      ]
    },
    {
      "cell_type": "markdown",
      "metadata": {
        "id": "qMBvwzXac5KL"
      },
      "source": [
        "## **`Preprocessing Product Category & SubCategory`**\n",
        "\n",
        "Reduced categories from 179 to 33"
      ]
    },
    {
      "cell_type": "code",
      "metadata": {
        "id": "I3fF6vHPa1Pg",
        "colab": {
          "base_uri": "https://localhost:8080/",
          "height": 181
        },
        "outputId": "e5fae788-30a2-4afe-9693-d3c0d0cee549"
      },
      "source": [
        " \n",
        "# 'ProductCategory','ProductSubcategory'\n",
        "prod_frame = lower_dimension_frame(data,['ProductCategory','ProductSubcategory'])\n",
        "prod_frame.head(2)\n"
      ],
      "execution_count": 25,
      "outputs": [
        {
          "output_type": "execute_result",
          "data": {
            "text/html": [
              "<div>\n",
              "<style scoped>\n",
              "    .dataframe tbody tr th:only-of-type {\n",
              "        vertical-align: middle;\n",
              "    }\n",
              "\n",
              "    .dataframe tbody tr th {\n",
              "        vertical-align: top;\n",
              "    }\n",
              "\n",
              "    .dataframe thead th {\n",
              "        text-align: right;\n",
              "    }\n",
              "</style>\n",
              "<table border=\"1\" class=\"dataframe\">\n",
              "  <thead>\n",
              "    <tr style=\"text-align: right;\">\n",
              "      <th></th>\n",
              "      <th>SET</th>\n",
              "      <th>PYJAMAS</th>\n",
              "      <th>SKIRT</th>\n",
              "      <th>NAN</th>\n",
              "      <th>DRESS</th>\n",
              "      <th>TROUSERS</th>\n",
              "      <th>LEGGINGS</th>\n",
              "      <th>TRACKSUIT</th>\n",
              "      <th>CARDIGAN</th>\n",
              "      <th>ROMPER</th>\n",
              "      <th>SHIRTS</th>\n",
              "      <th>SHIRT</th>\n",
              "      <th>T-SHIRT</th>\n",
              "      <th>SHORT SET</th>\n",
              "      <th>TOP</th>\n",
              "      <th>JOGGERS</th>\n",
              "      <th>SKIRT SET</th>\n",
              "      <th>JACKET</th>\n",
              "      <th>SHORTS</th>\n",
              "      <th>BLOUSE</th>\n",
              "      <th>VEST</th>\n",
              "      <th>JEANS</th>\n",
              "      <th>SWEATSHIRT</th>\n",
              "      <th>BIKINI</th>\n",
              "      <th>BERMUDA SHORTS</th>\n",
              "      <th>JUMPSUIT</th>\n",
              "      <th>DUNGAREES</th>\n",
              "      <th>PLAYSUIT</th>\n",
              "      <th>SLEEVELESS BLOUSE</th>\n",
              "      <th>BOMBER JACKET</th>\n",
              "      <th>BLAZER</th>\n",
              "      <th>TUNIC</th>\n",
              "      <th>SWIMSUIT</th>\n",
              "    </tr>\n",
              "    <tr>\n",
              "      <th>index</th>\n",
              "      <th></th>\n",
              "      <th></th>\n",
              "      <th></th>\n",
              "      <th></th>\n",
              "      <th></th>\n",
              "      <th></th>\n",
              "      <th></th>\n",
              "      <th></th>\n",
              "      <th></th>\n",
              "      <th></th>\n",
              "      <th></th>\n",
              "      <th></th>\n",
              "      <th></th>\n",
              "      <th></th>\n",
              "      <th></th>\n",
              "      <th></th>\n",
              "      <th></th>\n",
              "      <th></th>\n",
              "      <th></th>\n",
              "      <th></th>\n",
              "      <th></th>\n",
              "      <th></th>\n",
              "      <th></th>\n",
              "      <th></th>\n",
              "      <th></th>\n",
              "      <th></th>\n",
              "      <th></th>\n",
              "      <th></th>\n",
              "      <th></th>\n",
              "      <th></th>\n",
              "      <th></th>\n",
              "      <th></th>\n",
              "      <th></th>\n",
              "    </tr>\n",
              "  </thead>\n",
              "  <tbody>\n",
              "    <tr>\n",
              "      <th>0</th>\n",
              "      <td>1.0</td>\n",
              "      <td>0.0</td>\n",
              "      <td>0.0</td>\n",
              "      <td>0.0</td>\n",
              "      <td>0.0</td>\n",
              "      <td>0.0</td>\n",
              "      <td>0.0</td>\n",
              "      <td>0.0</td>\n",
              "      <td>0.0</td>\n",
              "      <td>0.0</td>\n",
              "      <td>0.0</td>\n",
              "      <td>1.0</td>\n",
              "      <td>1.0</td>\n",
              "      <td>0.0</td>\n",
              "      <td>0.0</td>\n",
              "      <td>0.0</td>\n",
              "      <td>0.0</td>\n",
              "      <td>0.0</td>\n",
              "      <td>0.0</td>\n",
              "      <td>0.0</td>\n",
              "      <td>0.0</td>\n",
              "      <td>0.0</td>\n",
              "      <td>0.0</td>\n",
              "      <td>0.0</td>\n",
              "      <td>0.0</td>\n",
              "      <td>0.0</td>\n",
              "      <td>0.0</td>\n",
              "      <td>0.0</td>\n",
              "      <td>0.0</td>\n",
              "      <td>0.0</td>\n",
              "      <td>0.0</td>\n",
              "      <td>0.0</td>\n",
              "      <td>0.0</td>\n",
              "    </tr>\n",
              "    <tr>\n",
              "      <th>1</th>\n",
              "      <td>1.0</td>\n",
              "      <td>0.0</td>\n",
              "      <td>0.0</td>\n",
              "      <td>0.0</td>\n",
              "      <td>0.0</td>\n",
              "      <td>0.0</td>\n",
              "      <td>0.0</td>\n",
              "      <td>0.0</td>\n",
              "      <td>0.0</td>\n",
              "      <td>0.0</td>\n",
              "      <td>0.0</td>\n",
              "      <td>0.0</td>\n",
              "      <td>0.0</td>\n",
              "      <td>0.0</td>\n",
              "      <td>0.0</td>\n",
              "      <td>0.0</td>\n",
              "      <td>0.0</td>\n",
              "      <td>0.0</td>\n",
              "      <td>0.0</td>\n",
              "      <td>0.0</td>\n",
              "      <td>0.0</td>\n",
              "      <td>0.0</td>\n",
              "      <td>0.0</td>\n",
              "      <td>0.0</td>\n",
              "      <td>0.0</td>\n",
              "      <td>0.0</td>\n",
              "      <td>0.0</td>\n",
              "      <td>0.0</td>\n",
              "      <td>0.0</td>\n",
              "      <td>0.0</td>\n",
              "      <td>0.0</td>\n",
              "      <td>0.0</td>\n",
              "      <td>0.0</td>\n",
              "    </tr>\n",
              "  </tbody>\n",
              "</table>\n",
              "</div>"
            ],
            "text/plain": [
              "       SET  PYJAMAS  SKIRT  NAN  ...  BOMBER JACKET  BLAZER  TUNIC  SWIMSUIT\n",
              "index                            ...                                        \n",
              "0      1.0      0.0    0.0  0.0  ...            0.0     0.0    0.0       0.0\n",
              "1      1.0      0.0    0.0  0.0  ...            0.0     0.0    0.0       0.0\n",
              "\n",
              "[2 rows x 33 columns]"
            ]
          },
          "metadata": {
            "tags": []
          },
          "execution_count": 25
        }
      ]
    },
    {
      "cell_type": "code",
      "metadata": {
        "id": "8k7psp_4ic9O",
        "colab": {
          "base_uri": "https://localhost:8080/"
        },
        "outputId": "e7068ad4-620e-4141-f16a-c7adff341e35"
      },
      "source": [
        "len(data['ProductSubcategory'].unique())+ len(data['ProductCategory'].unique())"
      ],
      "execution_count": 26,
      "outputs": [
        {
          "output_type": "execute_result",
          "data": {
            "text/plain": [
              "179"
            ]
          },
          "metadata": {
            "tags": []
          },
          "execution_count": 26
        }
      ]
    },
    {
      "cell_type": "code",
      "metadata": {
        "id": "zcuo3_Z3c5rz",
        "colab": {
          "base_uri": "https://localhost:8080/"
        },
        "outputId": "fdaceda7-ff35-460a-84a9-0a4ba6e369c2"
      },
      "source": [
        "len(prod_frame.columns)"
      ],
      "execution_count": 27,
      "outputs": [
        {
          "output_type": "execute_result",
          "data": {
            "text/plain": [
              "33"
            ]
          },
          "metadata": {
            "tags": []
          },
          "execution_count": 27
        }
      ]
    },
    {
      "cell_type": "markdown",
      "metadata": {
        "id": "2yAnThpGscn2"
      },
      "source": [
        "## **`Preprocessing Search Words`**\r\n",
        "\r\n",
        "Because every cloth can have multiple search words\r\n",
        "\r\n",
        "the following code adjust every searchword for all of the clothes"
      ]
    },
    {
      "cell_type": "code",
      "metadata": {
        "id": "fLPyAwa6scul"
      },
      "source": [
        "su = all_data.loc[all_data['UserId'] == 0]\n",
        "single_user_data = su.copy()\n",
        "unique_search_words = single_user_data['SearchWords'].unique()\n",
        "future_frame = []\n",
        "for i in single_user_data['ImageSource'].tolist():\n",
        "  z_array = np.zeros((1,len(unique_search_words)))\n",
        "  local_sw = su.loc[su['ImageSource'] == i]['SearchWords'].tolist()\n",
        "  #print(local_sw)\n",
        "  for j in range(len(unique_search_words)):\n",
        "    for k in range(len(local_sw)):\n",
        "      if local_sw[k] == unique_search_words[j]:\n",
        "        #print(local_sw[k])\n",
        "        z_array[0][j] = 1\n",
        "  future_frame.append(z_array)\n"
      ],
      "execution_count": 28,
      "outputs": []
    },
    {
      "cell_type": "code",
      "metadata": {
        "id": "p-sTcLQV5zyq",
        "colab": {
          "base_uri": "https://localhost:8080/"
        },
        "outputId": "4258b796-35ec-4570-a4b0-555c31858e96"
      },
      "source": [
        "future_frame = np.array(future_frame).squeeze()\n",
        "search_word_Dataframe = pd.DataFrame(data=future_frame,columns=unique_search_words)\n",
        "index = prod_frame.index.tolist()\n",
        "search_word_Dataframe['index'] = index\n",
        "search_word_Dataframe = search_word_Dataframe.set_index(keys='index')\n",
        "len(np.array(search_word_Dataframe.columns.tolist()))"
      ],
      "execution_count": 30,
      "outputs": [
        {
          "output_type": "execute_result",
          "data": {
            "text/plain": [
              "360"
            ]
          },
          "metadata": {
            "tags": []
          },
          "execution_count": 30
        }
      ]
    },
    {
      "cell_type": "markdown",
      "metadata": {
        "id": "lHA0nOxMY9ag"
      },
      "source": [
        "# **`merge all features of every category`**"
      ]
    },
    {
      "cell_type": "code",
      "metadata": {
        "id": "N-lQJXgSY9gJ",
        "colab": {
          "base_uri": "https://localhost:8080/",
          "height": 461
        },
        "outputId": "b9203688-2063-4129-93cc-c74721740d74"
      },
      "source": [
        "merged = pd.merge(prod_frame,length_frame,on='index')\n",
        "merged = pd.merge(merged,search_word_Dataframe,on='index')\n",
        "merged = pd.merge(merged,fit_frame,on='index')\n",
        "merged = pd.merge(merged,neck_frame,on='index')\n",
        "#-------------\n",
        "#-------------\n",
        "# merging color is optional\n",
        "#-------------\n",
        "#-------------\n",
        "#merged = pd.merge(merged,color_frame,on='index')\n",
        "\n",
        "\n",
        "dataset = data.drop_duplicates(subset='ImageSource',keep='first')\n",
        "\n",
        "index = dataset['ProductNo'].tolist()\n",
        " \n",
        "merged = merged.loc[index]\n",
        "merged = merged.reset_index()\n",
        "merged = merged.drop(columns='index')\n",
        "merged\n",
        "\n",
        "# 4325 clothes in total with 411 features (without color)"
      ],
      "execution_count": 43,
      "outputs": [
        {
          "output_type": "execute_result",
          "data": {
            "text/html": [
              "<div>\n",
              "<style scoped>\n",
              "    .dataframe tbody tr th:only-of-type {\n",
              "        vertical-align: middle;\n",
              "    }\n",
              "\n",
              "    .dataframe tbody tr th {\n",
              "        vertical-align: top;\n",
              "    }\n",
              "\n",
              "    .dataframe thead th {\n",
              "        text-align: right;\n",
              "    }\n",
              "</style>\n",
              "<table border=\"1\" class=\"dataframe\">\n",
              "  <thead>\n",
              "    <tr style=\"text-align: right;\">\n",
              "      <th></th>\n",
              "      <th>SET</th>\n",
              "      <th>PYJAMAS</th>\n",
              "      <th>SKIRT</th>\n",
              "      <th>NAN</th>\n",
              "      <th>DRESS</th>\n",
              "      <th>TROUSERS</th>\n",
              "      <th>LEGGINGS</th>\n",
              "      <th>TRACKSUIT</th>\n",
              "      <th>CARDIGAN</th>\n",
              "      <th>ROMPER</th>\n",
              "      <th>SHIRTS</th>\n",
              "      <th>SHIRT</th>\n",
              "      <th>T-SHIRT</th>\n",
              "      <th>SHORT SET</th>\n",
              "      <th>TOP</th>\n",
              "      <th>JOGGERS</th>\n",
              "      <th>SKIRT SET</th>\n",
              "      <th>JACKET</th>\n",
              "      <th>SHORTS</th>\n",
              "      <th>BLOUSE</th>\n",
              "      <th>VEST</th>\n",
              "      <th>JEANS</th>\n",
              "      <th>SWEATSHIRT</th>\n",
              "      <th>BIKINI</th>\n",
              "      <th>BERMUDA SHORTS</th>\n",
              "      <th>JUMPSUIT</th>\n",
              "      <th>DUNGAREES</th>\n",
              "      <th>PLAYSUIT</th>\n",
              "      <th>SLEEVELESS BLOUSE</th>\n",
              "      <th>BOMBER JACKET</th>\n",
              "      <th>BLAZER</th>\n",
              "      <th>TUNIC</th>\n",
              "      <th>SWIMSUIT</th>\n",
              "      <th>SHORT LENGTH</th>\n",
              "      <th>MEDIUM LENGTH</th>\n",
              "      <th>KNEE LENGTH</th>\n",
              "      <th>LONG</th>\n",
              "      <th>CAPRI</th>\n",
              "      <th>3/4 LENGTH</th>\n",
              "      <th>SHORTSET</th>\n",
              "      <th>...</th>\n",
              "      <th>OFFSHOULDERSWIMMINGSUITS</th>\n",
              "      <th>HALTERNECKSWIMMINGSUITS</th>\n",
              "      <th>SHORTPYJAMAS</th>\n",
              "      <th>LONGPYJAMAS</th>\n",
              "      <th>MEDIUMPYJAMAS</th>\n",
              "      <th>KNEEPYJAMAS</th>\n",
              "      <th>CAPRIPYJAMAS</th>\n",
              "      <th>3/4LENGTHPYJAMAS</th>\n",
              "      <th>SHORTSLEEVEPYJAMAS</th>\n",
              "      <th>LONGSLEEVEPYJAMAS</th>\n",
              "      <th>TURNUPSLEEVEPYJAMAS</th>\n",
              "      <th>SLEEVELESSPYJAMAS</th>\n",
              "      <th>RAGLANSLEEVEPYJAMAS</th>\n",
              "      <th>CUPSLEEVEPYJAMAS</th>\n",
              "      <th>3/4FLAREDPYJAMAS</th>\n",
              "      <th>FLAREDPYJAMAS</th>\n",
              "      <th>POLOCOLLARPYJAMAS</th>\n",
              "      <th>SHIRTCOLLARPYJAMAS</th>\n",
              "      <th>FLATKNITTEDRIBPYJAMAS</th>\n",
              "      <th>MAOCOLLARPYJAMAS</th>\n",
              "      <th>STANDUPCOLLARPYJAMAS</th>\n",
              "      <th>ROUNDNECKPYJAMAS</th>\n",
              "      <th>COLLARPYJAMAS</th>\n",
              "      <th>TURTLENECKPYJAMAS</th>\n",
              "      <th>HOODEDPYJAMAS</th>\n",
              "      <th>VNECKPYJAMAS</th>\n",
              "      <th>OFFSHOULDERPYJAMAS</th>\n",
              "      <th>HALTERNECKPYJAMAS</th>\n",
              "      <th>RELAXED FIT</th>\n",
              "      <th>REGULAR FIT</th>\n",
              "      <th>SLIM FIT</th>\n",
              "      <th>CARGO</th>\n",
              "      <th>BIKER</th>\n",
              "      <th>ROUND NECK</th>\n",
              "      <th>COLLAR</th>\n",
              "      <th>V NECK</th>\n",
              "      <th>HOODED</th>\n",
              "      <th>OFF SHOULDER</th>\n",
              "      <th>HALTERNECK</th>\n",
              "      <th>TURTLENECK</th>\n",
              "    </tr>\n",
              "  </thead>\n",
              "  <tbody>\n",
              "    <tr>\n",
              "      <th>0</th>\n",
              "      <td>1.0</td>\n",
              "      <td>0.0</td>\n",
              "      <td>0.0</td>\n",
              "      <td>0.0</td>\n",
              "      <td>0.0</td>\n",
              "      <td>0.0</td>\n",
              "      <td>0.0</td>\n",
              "      <td>0.0</td>\n",
              "      <td>0.0</td>\n",
              "      <td>0.0</td>\n",
              "      <td>0.0</td>\n",
              "      <td>1.0</td>\n",
              "      <td>1.0</td>\n",
              "      <td>0.0</td>\n",
              "      <td>0.0</td>\n",
              "      <td>0.0</td>\n",
              "      <td>0.0</td>\n",
              "      <td>0.0</td>\n",
              "      <td>0.0</td>\n",
              "      <td>0.0</td>\n",
              "      <td>0.0</td>\n",
              "      <td>0.0</td>\n",
              "      <td>0.0</td>\n",
              "      <td>0.0</td>\n",
              "      <td>0.0</td>\n",
              "      <td>0.0</td>\n",
              "      <td>0.0</td>\n",
              "      <td>0.0</td>\n",
              "      <td>0.0</td>\n",
              "      <td>0.0</td>\n",
              "      <td>0.0</td>\n",
              "      <td>0.0</td>\n",
              "      <td>0.0</td>\n",
              "      <td>1.0</td>\n",
              "      <td>0.0</td>\n",
              "      <td>0.0</td>\n",
              "      <td>0.0</td>\n",
              "      <td>0.0</td>\n",
              "      <td>0.0</td>\n",
              "      <td>1.0</td>\n",
              "      <td>...</td>\n",
              "      <td>0.0</td>\n",
              "      <td>0.0</td>\n",
              "      <td>0.0</td>\n",
              "      <td>0.0</td>\n",
              "      <td>0.0</td>\n",
              "      <td>0.0</td>\n",
              "      <td>0.0</td>\n",
              "      <td>0.0</td>\n",
              "      <td>0.0</td>\n",
              "      <td>0.0</td>\n",
              "      <td>0.0</td>\n",
              "      <td>0.0</td>\n",
              "      <td>0.0</td>\n",
              "      <td>0.0</td>\n",
              "      <td>0.0</td>\n",
              "      <td>0.0</td>\n",
              "      <td>0.0</td>\n",
              "      <td>0.0</td>\n",
              "      <td>0.0</td>\n",
              "      <td>0.0</td>\n",
              "      <td>0.0</td>\n",
              "      <td>0.0</td>\n",
              "      <td>0.0</td>\n",
              "      <td>0.0</td>\n",
              "      <td>0.0</td>\n",
              "      <td>0.0</td>\n",
              "      <td>0.0</td>\n",
              "      <td>0.0</td>\n",
              "      <td>1.0</td>\n",
              "      <td>0.0</td>\n",
              "      <td>0.0</td>\n",
              "      <td>0.0</td>\n",
              "      <td>0.0</td>\n",
              "      <td>1.0</td>\n",
              "      <td>0.0</td>\n",
              "      <td>0.0</td>\n",
              "      <td>0.0</td>\n",
              "      <td>0.0</td>\n",
              "      <td>0.0</td>\n",
              "      <td>0.0</td>\n",
              "    </tr>\n",
              "    <tr>\n",
              "      <th>1</th>\n",
              "      <td>1.0</td>\n",
              "      <td>0.0</td>\n",
              "      <td>0.0</td>\n",
              "      <td>0.0</td>\n",
              "      <td>0.0</td>\n",
              "      <td>0.0</td>\n",
              "      <td>0.0</td>\n",
              "      <td>0.0</td>\n",
              "      <td>0.0</td>\n",
              "      <td>0.0</td>\n",
              "      <td>0.0</td>\n",
              "      <td>0.0</td>\n",
              "      <td>0.0</td>\n",
              "      <td>0.0</td>\n",
              "      <td>0.0</td>\n",
              "      <td>0.0</td>\n",
              "      <td>0.0</td>\n",
              "      <td>0.0</td>\n",
              "      <td>0.0</td>\n",
              "      <td>0.0</td>\n",
              "      <td>0.0</td>\n",
              "      <td>0.0</td>\n",
              "      <td>0.0</td>\n",
              "      <td>0.0</td>\n",
              "      <td>0.0</td>\n",
              "      <td>0.0</td>\n",
              "      <td>0.0</td>\n",
              "      <td>0.0</td>\n",
              "      <td>0.0</td>\n",
              "      <td>0.0</td>\n",
              "      <td>0.0</td>\n",
              "      <td>0.0</td>\n",
              "      <td>0.0</td>\n",
              "      <td>1.0</td>\n",
              "      <td>0.0</td>\n",
              "      <td>0.0</td>\n",
              "      <td>0.0</td>\n",
              "      <td>0.0</td>\n",
              "      <td>0.0</td>\n",
              "      <td>1.0</td>\n",
              "      <td>...</td>\n",
              "      <td>0.0</td>\n",
              "      <td>0.0</td>\n",
              "      <td>1.0</td>\n",
              "      <td>0.0</td>\n",
              "      <td>1.0</td>\n",
              "      <td>0.0</td>\n",
              "      <td>0.0</td>\n",
              "      <td>0.0</td>\n",
              "      <td>0.0</td>\n",
              "      <td>0.0</td>\n",
              "      <td>0.0</td>\n",
              "      <td>0.0</td>\n",
              "      <td>0.0</td>\n",
              "      <td>0.0</td>\n",
              "      <td>0.0</td>\n",
              "      <td>0.0</td>\n",
              "      <td>0.0</td>\n",
              "      <td>0.0</td>\n",
              "      <td>0.0</td>\n",
              "      <td>1.0</td>\n",
              "      <td>0.0</td>\n",
              "      <td>0.0</td>\n",
              "      <td>1.0</td>\n",
              "      <td>1.0</td>\n",
              "      <td>0.0</td>\n",
              "      <td>0.0</td>\n",
              "      <td>0.0</td>\n",
              "      <td>1.0</td>\n",
              "      <td>0.0</td>\n",
              "      <td>1.0</td>\n",
              "      <td>0.0</td>\n",
              "      <td>0.0</td>\n",
              "      <td>0.0</td>\n",
              "      <td>0.0</td>\n",
              "      <td>1.0</td>\n",
              "      <td>0.0</td>\n",
              "      <td>0.0</td>\n",
              "      <td>0.0</td>\n",
              "      <td>0.0</td>\n",
              "      <td>0.0</td>\n",
              "    </tr>\n",
              "    <tr>\n",
              "      <th>2</th>\n",
              "      <td>1.0</td>\n",
              "      <td>0.0</td>\n",
              "      <td>0.0</td>\n",
              "      <td>0.0</td>\n",
              "      <td>0.0</td>\n",
              "      <td>0.0</td>\n",
              "      <td>0.0</td>\n",
              "      <td>0.0</td>\n",
              "      <td>0.0</td>\n",
              "      <td>0.0</td>\n",
              "      <td>0.0</td>\n",
              "      <td>0.0</td>\n",
              "      <td>0.0</td>\n",
              "      <td>0.0</td>\n",
              "      <td>0.0</td>\n",
              "      <td>0.0</td>\n",
              "      <td>0.0</td>\n",
              "      <td>0.0</td>\n",
              "      <td>0.0</td>\n",
              "      <td>0.0</td>\n",
              "      <td>0.0</td>\n",
              "      <td>0.0</td>\n",
              "      <td>0.0</td>\n",
              "      <td>0.0</td>\n",
              "      <td>0.0</td>\n",
              "      <td>0.0</td>\n",
              "      <td>0.0</td>\n",
              "      <td>0.0</td>\n",
              "      <td>0.0</td>\n",
              "      <td>0.0</td>\n",
              "      <td>0.0</td>\n",
              "      <td>0.0</td>\n",
              "      <td>0.0</td>\n",
              "      <td>1.0</td>\n",
              "      <td>0.0</td>\n",
              "      <td>0.0</td>\n",
              "      <td>0.0</td>\n",
              "      <td>0.0</td>\n",
              "      <td>0.0</td>\n",
              "      <td>1.0</td>\n",
              "      <td>...</td>\n",
              "      <td>0.0</td>\n",
              "      <td>0.0</td>\n",
              "      <td>1.0</td>\n",
              "      <td>0.0</td>\n",
              "      <td>0.0</td>\n",
              "      <td>0.0</td>\n",
              "      <td>1.0</td>\n",
              "      <td>0.0</td>\n",
              "      <td>0.0</td>\n",
              "      <td>0.0</td>\n",
              "      <td>0.0</td>\n",
              "      <td>0.0</td>\n",
              "      <td>0.0</td>\n",
              "      <td>0.0</td>\n",
              "      <td>0.0</td>\n",
              "      <td>0.0</td>\n",
              "      <td>0.0</td>\n",
              "      <td>0.0</td>\n",
              "      <td>0.0</td>\n",
              "      <td>0.0</td>\n",
              "      <td>0.0</td>\n",
              "      <td>0.0</td>\n",
              "      <td>0.0</td>\n",
              "      <td>0.0</td>\n",
              "      <td>0.0</td>\n",
              "      <td>0.0</td>\n",
              "      <td>0.0</td>\n",
              "      <td>0.0</td>\n",
              "      <td>0.0</td>\n",
              "      <td>1.0</td>\n",
              "      <td>0.0</td>\n",
              "      <td>0.0</td>\n",
              "      <td>0.0</td>\n",
              "      <td>0.0</td>\n",
              "      <td>0.0</td>\n",
              "      <td>1.0</td>\n",
              "      <td>0.0</td>\n",
              "      <td>0.0</td>\n",
              "      <td>0.0</td>\n",
              "      <td>0.0</td>\n",
              "    </tr>\n",
              "    <tr>\n",
              "      <th>3</th>\n",
              "      <td>1.0</td>\n",
              "      <td>0.0</td>\n",
              "      <td>0.0</td>\n",
              "      <td>0.0</td>\n",
              "      <td>0.0</td>\n",
              "      <td>0.0</td>\n",
              "      <td>0.0</td>\n",
              "      <td>0.0</td>\n",
              "      <td>0.0</td>\n",
              "      <td>0.0</td>\n",
              "      <td>0.0</td>\n",
              "      <td>0.0</td>\n",
              "      <td>1.0</td>\n",
              "      <td>1.0</td>\n",
              "      <td>0.0</td>\n",
              "      <td>0.0</td>\n",
              "      <td>0.0</td>\n",
              "      <td>0.0</td>\n",
              "      <td>0.0</td>\n",
              "      <td>0.0</td>\n",
              "      <td>0.0</td>\n",
              "      <td>0.0</td>\n",
              "      <td>0.0</td>\n",
              "      <td>0.0</td>\n",
              "      <td>0.0</td>\n",
              "      <td>0.0</td>\n",
              "      <td>0.0</td>\n",
              "      <td>0.0</td>\n",
              "      <td>0.0</td>\n",
              "      <td>0.0</td>\n",
              "      <td>0.0</td>\n",
              "      <td>0.0</td>\n",
              "      <td>0.0</td>\n",
              "      <td>1.0</td>\n",
              "      <td>0.0</td>\n",
              "      <td>0.0</td>\n",
              "      <td>0.0</td>\n",
              "      <td>0.0</td>\n",
              "      <td>0.0</td>\n",
              "      <td>1.0</td>\n",
              "      <td>...</td>\n",
              "      <td>0.0</td>\n",
              "      <td>0.0</td>\n",
              "      <td>0.0</td>\n",
              "      <td>0.0</td>\n",
              "      <td>0.0</td>\n",
              "      <td>0.0</td>\n",
              "      <td>0.0</td>\n",
              "      <td>0.0</td>\n",
              "      <td>0.0</td>\n",
              "      <td>0.0</td>\n",
              "      <td>0.0</td>\n",
              "      <td>0.0</td>\n",
              "      <td>0.0</td>\n",
              "      <td>0.0</td>\n",
              "      <td>0.0</td>\n",
              "      <td>0.0</td>\n",
              "      <td>0.0</td>\n",
              "      <td>0.0</td>\n",
              "      <td>0.0</td>\n",
              "      <td>0.0</td>\n",
              "      <td>0.0</td>\n",
              "      <td>0.0</td>\n",
              "      <td>0.0</td>\n",
              "      <td>0.0</td>\n",
              "      <td>0.0</td>\n",
              "      <td>0.0</td>\n",
              "      <td>0.0</td>\n",
              "      <td>0.0</td>\n",
              "      <td>0.0</td>\n",
              "      <td>1.0</td>\n",
              "      <td>0.0</td>\n",
              "      <td>0.0</td>\n",
              "      <td>0.0</td>\n",
              "      <td>0.0</td>\n",
              "      <td>1.0</td>\n",
              "      <td>0.0</td>\n",
              "      <td>0.0</td>\n",
              "      <td>0.0</td>\n",
              "      <td>0.0</td>\n",
              "      <td>0.0</td>\n",
              "    </tr>\n",
              "    <tr>\n",
              "      <th>4</th>\n",
              "      <td>1.0</td>\n",
              "      <td>0.0</td>\n",
              "      <td>0.0</td>\n",
              "      <td>0.0</td>\n",
              "      <td>0.0</td>\n",
              "      <td>0.0</td>\n",
              "      <td>0.0</td>\n",
              "      <td>0.0</td>\n",
              "      <td>0.0</td>\n",
              "      <td>0.0</td>\n",
              "      <td>0.0</td>\n",
              "      <td>0.0</td>\n",
              "      <td>1.0</td>\n",
              "      <td>1.0</td>\n",
              "      <td>0.0</td>\n",
              "      <td>0.0</td>\n",
              "      <td>0.0</td>\n",
              "      <td>0.0</td>\n",
              "      <td>0.0</td>\n",
              "      <td>0.0</td>\n",
              "      <td>0.0</td>\n",
              "      <td>0.0</td>\n",
              "      <td>0.0</td>\n",
              "      <td>0.0</td>\n",
              "      <td>0.0</td>\n",
              "      <td>0.0</td>\n",
              "      <td>0.0</td>\n",
              "      <td>0.0</td>\n",
              "      <td>0.0</td>\n",
              "      <td>0.0</td>\n",
              "      <td>0.0</td>\n",
              "      <td>0.0</td>\n",
              "      <td>0.0</td>\n",
              "      <td>1.0</td>\n",
              "      <td>0.0</td>\n",
              "      <td>0.0</td>\n",
              "      <td>0.0</td>\n",
              "      <td>0.0</td>\n",
              "      <td>0.0</td>\n",
              "      <td>1.0</td>\n",
              "      <td>...</td>\n",
              "      <td>0.0</td>\n",
              "      <td>0.0</td>\n",
              "      <td>0.0</td>\n",
              "      <td>0.0</td>\n",
              "      <td>0.0</td>\n",
              "      <td>0.0</td>\n",
              "      <td>0.0</td>\n",
              "      <td>0.0</td>\n",
              "      <td>0.0</td>\n",
              "      <td>0.0</td>\n",
              "      <td>0.0</td>\n",
              "      <td>0.0</td>\n",
              "      <td>0.0</td>\n",
              "      <td>0.0</td>\n",
              "      <td>0.0</td>\n",
              "      <td>0.0</td>\n",
              "      <td>0.0</td>\n",
              "      <td>0.0</td>\n",
              "      <td>0.0</td>\n",
              "      <td>0.0</td>\n",
              "      <td>0.0</td>\n",
              "      <td>0.0</td>\n",
              "      <td>0.0</td>\n",
              "      <td>0.0</td>\n",
              "      <td>0.0</td>\n",
              "      <td>0.0</td>\n",
              "      <td>0.0</td>\n",
              "      <td>0.0</td>\n",
              "      <td>0.0</td>\n",
              "      <td>1.0</td>\n",
              "      <td>0.0</td>\n",
              "      <td>0.0</td>\n",
              "      <td>0.0</td>\n",
              "      <td>0.0</td>\n",
              "      <td>1.0</td>\n",
              "      <td>0.0</td>\n",
              "      <td>0.0</td>\n",
              "      <td>0.0</td>\n",
              "      <td>0.0</td>\n",
              "      <td>0.0</td>\n",
              "    </tr>\n",
              "    <tr>\n",
              "      <th>...</th>\n",
              "      <td>...</td>\n",
              "      <td>...</td>\n",
              "      <td>...</td>\n",
              "      <td>...</td>\n",
              "      <td>...</td>\n",
              "      <td>...</td>\n",
              "      <td>...</td>\n",
              "      <td>...</td>\n",
              "      <td>...</td>\n",
              "      <td>...</td>\n",
              "      <td>...</td>\n",
              "      <td>...</td>\n",
              "      <td>...</td>\n",
              "      <td>...</td>\n",
              "      <td>...</td>\n",
              "      <td>...</td>\n",
              "      <td>...</td>\n",
              "      <td>...</td>\n",
              "      <td>...</td>\n",
              "      <td>...</td>\n",
              "      <td>...</td>\n",
              "      <td>...</td>\n",
              "      <td>...</td>\n",
              "      <td>...</td>\n",
              "      <td>...</td>\n",
              "      <td>...</td>\n",
              "      <td>...</td>\n",
              "      <td>...</td>\n",
              "      <td>...</td>\n",
              "      <td>...</td>\n",
              "      <td>...</td>\n",
              "      <td>...</td>\n",
              "      <td>...</td>\n",
              "      <td>...</td>\n",
              "      <td>...</td>\n",
              "      <td>...</td>\n",
              "      <td>...</td>\n",
              "      <td>...</td>\n",
              "      <td>...</td>\n",
              "      <td>...</td>\n",
              "      <td>...</td>\n",
              "      <td>...</td>\n",
              "      <td>...</td>\n",
              "      <td>...</td>\n",
              "      <td>...</td>\n",
              "      <td>...</td>\n",
              "      <td>...</td>\n",
              "      <td>...</td>\n",
              "      <td>...</td>\n",
              "      <td>...</td>\n",
              "      <td>...</td>\n",
              "      <td>...</td>\n",
              "      <td>...</td>\n",
              "      <td>...</td>\n",
              "      <td>...</td>\n",
              "      <td>...</td>\n",
              "      <td>...</td>\n",
              "      <td>...</td>\n",
              "      <td>...</td>\n",
              "      <td>...</td>\n",
              "      <td>...</td>\n",
              "      <td>...</td>\n",
              "      <td>...</td>\n",
              "      <td>...</td>\n",
              "      <td>...</td>\n",
              "      <td>...</td>\n",
              "      <td>...</td>\n",
              "      <td>...</td>\n",
              "      <td>...</td>\n",
              "      <td>...</td>\n",
              "      <td>...</td>\n",
              "      <td>...</td>\n",
              "      <td>...</td>\n",
              "      <td>...</td>\n",
              "      <td>...</td>\n",
              "      <td>...</td>\n",
              "      <td>...</td>\n",
              "      <td>...</td>\n",
              "      <td>...</td>\n",
              "      <td>...</td>\n",
              "      <td>...</td>\n",
              "    </tr>\n",
              "    <tr>\n",
              "      <th>4320</th>\n",
              "      <td>0.0</td>\n",
              "      <td>0.0</td>\n",
              "      <td>0.0</td>\n",
              "      <td>1.0</td>\n",
              "      <td>0.0</td>\n",
              "      <td>0.0</td>\n",
              "      <td>0.0</td>\n",
              "      <td>0.0</td>\n",
              "      <td>0.0</td>\n",
              "      <td>0.0</td>\n",
              "      <td>0.0</td>\n",
              "      <td>0.0</td>\n",
              "      <td>0.0</td>\n",
              "      <td>0.0</td>\n",
              "      <td>0.0</td>\n",
              "      <td>0.0</td>\n",
              "      <td>0.0</td>\n",
              "      <td>0.0</td>\n",
              "      <td>1.0</td>\n",
              "      <td>0.0</td>\n",
              "      <td>0.0</td>\n",
              "      <td>0.0</td>\n",
              "      <td>0.0</td>\n",
              "      <td>0.0</td>\n",
              "      <td>0.0</td>\n",
              "      <td>0.0</td>\n",
              "      <td>0.0</td>\n",
              "      <td>0.0</td>\n",
              "      <td>0.0</td>\n",
              "      <td>0.0</td>\n",
              "      <td>0.0</td>\n",
              "      <td>0.0</td>\n",
              "      <td>0.0</td>\n",
              "      <td>0.0</td>\n",
              "      <td>0.0</td>\n",
              "      <td>1.0</td>\n",
              "      <td>0.0</td>\n",
              "      <td>0.0</td>\n",
              "      <td>0.0</td>\n",
              "      <td>0.0</td>\n",
              "      <td>...</td>\n",
              "      <td>0.0</td>\n",
              "      <td>0.0</td>\n",
              "      <td>0.0</td>\n",
              "      <td>0.0</td>\n",
              "      <td>0.0</td>\n",
              "      <td>0.0</td>\n",
              "      <td>0.0</td>\n",
              "      <td>0.0</td>\n",
              "      <td>0.0</td>\n",
              "      <td>0.0</td>\n",
              "      <td>0.0</td>\n",
              "      <td>0.0</td>\n",
              "      <td>0.0</td>\n",
              "      <td>0.0</td>\n",
              "      <td>0.0</td>\n",
              "      <td>0.0</td>\n",
              "      <td>0.0</td>\n",
              "      <td>0.0</td>\n",
              "      <td>0.0</td>\n",
              "      <td>1.0</td>\n",
              "      <td>0.0</td>\n",
              "      <td>0.0</td>\n",
              "      <td>1.0</td>\n",
              "      <td>1.0</td>\n",
              "      <td>0.0</td>\n",
              "      <td>0.0</td>\n",
              "      <td>0.0</td>\n",
              "      <td>1.0</td>\n",
              "      <td>0.0</td>\n",
              "      <td>1.0</td>\n",
              "      <td>0.0</td>\n",
              "      <td>0.0</td>\n",
              "      <td>0.0</td>\n",
              "      <td>0.0</td>\n",
              "      <td>0.0</td>\n",
              "      <td>0.0</td>\n",
              "      <td>0.0</td>\n",
              "      <td>1.0</td>\n",
              "      <td>0.0</td>\n",
              "      <td>0.0</td>\n",
              "    </tr>\n",
              "    <tr>\n",
              "      <th>4321</th>\n",
              "      <td>1.0</td>\n",
              "      <td>0.0</td>\n",
              "      <td>0.0</td>\n",
              "      <td>0.0</td>\n",
              "      <td>0.0</td>\n",
              "      <td>0.0</td>\n",
              "      <td>0.0</td>\n",
              "      <td>0.0</td>\n",
              "      <td>0.0</td>\n",
              "      <td>0.0</td>\n",
              "      <td>0.0</td>\n",
              "      <td>0.0</td>\n",
              "      <td>0.0</td>\n",
              "      <td>0.0</td>\n",
              "      <td>0.0</td>\n",
              "      <td>0.0</td>\n",
              "      <td>0.0</td>\n",
              "      <td>0.0</td>\n",
              "      <td>0.0</td>\n",
              "      <td>0.0</td>\n",
              "      <td>0.0</td>\n",
              "      <td>0.0</td>\n",
              "      <td>0.0</td>\n",
              "      <td>0.0</td>\n",
              "      <td>0.0</td>\n",
              "      <td>0.0</td>\n",
              "      <td>0.0</td>\n",
              "      <td>0.0</td>\n",
              "      <td>0.0</td>\n",
              "      <td>0.0</td>\n",
              "      <td>0.0</td>\n",
              "      <td>0.0</td>\n",
              "      <td>0.0</td>\n",
              "      <td>0.0</td>\n",
              "      <td>0.0</td>\n",
              "      <td>1.0</td>\n",
              "      <td>0.0</td>\n",
              "      <td>0.0</td>\n",
              "      <td>0.0</td>\n",
              "      <td>0.0</td>\n",
              "      <td>...</td>\n",
              "      <td>0.0</td>\n",
              "      <td>0.0</td>\n",
              "      <td>0.0</td>\n",
              "      <td>0.0</td>\n",
              "      <td>0.0</td>\n",
              "      <td>0.0</td>\n",
              "      <td>0.0</td>\n",
              "      <td>0.0</td>\n",
              "      <td>0.0</td>\n",
              "      <td>0.0</td>\n",
              "      <td>0.0</td>\n",
              "      <td>0.0</td>\n",
              "      <td>0.0</td>\n",
              "      <td>0.0</td>\n",
              "      <td>0.0</td>\n",
              "      <td>0.0</td>\n",
              "      <td>0.0</td>\n",
              "      <td>0.0</td>\n",
              "      <td>0.0</td>\n",
              "      <td>0.0</td>\n",
              "      <td>0.0</td>\n",
              "      <td>0.0</td>\n",
              "      <td>0.0</td>\n",
              "      <td>0.0</td>\n",
              "      <td>1.0</td>\n",
              "      <td>0.0</td>\n",
              "      <td>0.0</td>\n",
              "      <td>0.0</td>\n",
              "      <td>0.0</td>\n",
              "      <td>1.0</td>\n",
              "      <td>0.0</td>\n",
              "      <td>0.0</td>\n",
              "      <td>0.0</td>\n",
              "      <td>0.0</td>\n",
              "      <td>0.0</td>\n",
              "      <td>0.0</td>\n",
              "      <td>1.0</td>\n",
              "      <td>0.0</td>\n",
              "      <td>0.0</td>\n",
              "      <td>0.0</td>\n",
              "    </tr>\n",
              "    <tr>\n",
              "      <th>4322</th>\n",
              "      <td>0.0</td>\n",
              "      <td>0.0</td>\n",
              "      <td>0.0</td>\n",
              "      <td>0.0</td>\n",
              "      <td>1.0</td>\n",
              "      <td>0.0</td>\n",
              "      <td>0.0</td>\n",
              "      <td>0.0</td>\n",
              "      <td>0.0</td>\n",
              "      <td>0.0</td>\n",
              "      <td>0.0</td>\n",
              "      <td>0.0</td>\n",
              "      <td>1.0</td>\n",
              "      <td>0.0</td>\n",
              "      <td>0.0</td>\n",
              "      <td>0.0</td>\n",
              "      <td>0.0</td>\n",
              "      <td>0.0</td>\n",
              "      <td>0.0</td>\n",
              "      <td>0.0</td>\n",
              "      <td>0.0</td>\n",
              "      <td>0.0</td>\n",
              "      <td>0.0</td>\n",
              "      <td>0.0</td>\n",
              "      <td>0.0</td>\n",
              "      <td>0.0</td>\n",
              "      <td>0.0</td>\n",
              "      <td>0.0</td>\n",
              "      <td>0.0</td>\n",
              "      <td>0.0</td>\n",
              "      <td>0.0</td>\n",
              "      <td>0.0</td>\n",
              "      <td>0.0</td>\n",
              "      <td>1.0</td>\n",
              "      <td>0.0</td>\n",
              "      <td>0.0</td>\n",
              "      <td>0.0</td>\n",
              "      <td>0.0</td>\n",
              "      <td>0.0</td>\n",
              "      <td>0.0</td>\n",
              "      <td>...</td>\n",
              "      <td>0.0</td>\n",
              "      <td>0.0</td>\n",
              "      <td>0.0</td>\n",
              "      <td>0.0</td>\n",
              "      <td>0.0</td>\n",
              "      <td>0.0</td>\n",
              "      <td>0.0</td>\n",
              "      <td>0.0</td>\n",
              "      <td>0.0</td>\n",
              "      <td>0.0</td>\n",
              "      <td>0.0</td>\n",
              "      <td>0.0</td>\n",
              "      <td>0.0</td>\n",
              "      <td>0.0</td>\n",
              "      <td>0.0</td>\n",
              "      <td>0.0</td>\n",
              "      <td>0.0</td>\n",
              "      <td>0.0</td>\n",
              "      <td>0.0</td>\n",
              "      <td>0.0</td>\n",
              "      <td>0.0</td>\n",
              "      <td>0.0</td>\n",
              "      <td>0.0</td>\n",
              "      <td>0.0</td>\n",
              "      <td>0.0</td>\n",
              "      <td>1.0</td>\n",
              "      <td>0.0</td>\n",
              "      <td>0.0</td>\n",
              "      <td>0.0</td>\n",
              "      <td>1.0</td>\n",
              "      <td>0.0</td>\n",
              "      <td>0.0</td>\n",
              "      <td>0.0</td>\n",
              "      <td>0.0</td>\n",
              "      <td>0.0</td>\n",
              "      <td>1.0</td>\n",
              "      <td>0.0</td>\n",
              "      <td>0.0</td>\n",
              "      <td>0.0</td>\n",
              "      <td>0.0</td>\n",
              "    </tr>\n",
              "    <tr>\n",
              "      <th>4323</th>\n",
              "      <td>0.0</td>\n",
              "      <td>0.0</td>\n",
              "      <td>0.0</td>\n",
              "      <td>1.0</td>\n",
              "      <td>0.0</td>\n",
              "      <td>0.0</td>\n",
              "      <td>0.0</td>\n",
              "      <td>0.0</td>\n",
              "      <td>0.0</td>\n",
              "      <td>0.0</td>\n",
              "      <td>0.0</td>\n",
              "      <td>0.0</td>\n",
              "      <td>1.0</td>\n",
              "      <td>0.0</td>\n",
              "      <td>0.0</td>\n",
              "      <td>0.0</td>\n",
              "      <td>0.0</td>\n",
              "      <td>0.0</td>\n",
              "      <td>0.0</td>\n",
              "      <td>0.0</td>\n",
              "      <td>0.0</td>\n",
              "      <td>0.0</td>\n",
              "      <td>0.0</td>\n",
              "      <td>0.0</td>\n",
              "      <td>0.0</td>\n",
              "      <td>0.0</td>\n",
              "      <td>0.0</td>\n",
              "      <td>0.0</td>\n",
              "      <td>0.0</td>\n",
              "      <td>0.0</td>\n",
              "      <td>0.0</td>\n",
              "      <td>0.0</td>\n",
              "      <td>0.0</td>\n",
              "      <td>1.0</td>\n",
              "      <td>0.0</td>\n",
              "      <td>0.0</td>\n",
              "      <td>0.0</td>\n",
              "      <td>0.0</td>\n",
              "      <td>0.0</td>\n",
              "      <td>0.0</td>\n",
              "      <td>...</td>\n",
              "      <td>0.0</td>\n",
              "      <td>0.0</td>\n",
              "      <td>0.0</td>\n",
              "      <td>0.0</td>\n",
              "      <td>0.0</td>\n",
              "      <td>0.0</td>\n",
              "      <td>0.0</td>\n",
              "      <td>0.0</td>\n",
              "      <td>0.0</td>\n",
              "      <td>0.0</td>\n",
              "      <td>0.0</td>\n",
              "      <td>0.0</td>\n",
              "      <td>0.0</td>\n",
              "      <td>0.0</td>\n",
              "      <td>0.0</td>\n",
              "      <td>0.0</td>\n",
              "      <td>0.0</td>\n",
              "      <td>0.0</td>\n",
              "      <td>0.0</td>\n",
              "      <td>0.0</td>\n",
              "      <td>0.0</td>\n",
              "      <td>0.0</td>\n",
              "      <td>0.0</td>\n",
              "      <td>0.0</td>\n",
              "      <td>0.0</td>\n",
              "      <td>0.0</td>\n",
              "      <td>1.0</td>\n",
              "      <td>0.0</td>\n",
              "      <td>0.0</td>\n",
              "      <td>1.0</td>\n",
              "      <td>0.0</td>\n",
              "      <td>0.0</td>\n",
              "      <td>0.0</td>\n",
              "      <td>0.0</td>\n",
              "      <td>0.0</td>\n",
              "      <td>0.0</td>\n",
              "      <td>0.0</td>\n",
              "      <td>1.0</td>\n",
              "      <td>0.0</td>\n",
              "      <td>0.0</td>\n",
              "    </tr>\n",
              "    <tr>\n",
              "      <th>4324</th>\n",
              "      <td>0.0</td>\n",
              "      <td>0.0</td>\n",
              "      <td>0.0</td>\n",
              "      <td>1.0</td>\n",
              "      <td>0.0</td>\n",
              "      <td>0.0</td>\n",
              "      <td>0.0</td>\n",
              "      <td>0.0</td>\n",
              "      <td>0.0</td>\n",
              "      <td>0.0</td>\n",
              "      <td>0.0</td>\n",
              "      <td>0.0</td>\n",
              "      <td>0.0</td>\n",
              "      <td>0.0</td>\n",
              "      <td>1.0</td>\n",
              "      <td>0.0</td>\n",
              "      <td>0.0</td>\n",
              "      <td>0.0</td>\n",
              "      <td>0.0</td>\n",
              "      <td>0.0</td>\n",
              "      <td>0.0</td>\n",
              "      <td>0.0</td>\n",
              "      <td>0.0</td>\n",
              "      <td>0.0</td>\n",
              "      <td>0.0</td>\n",
              "      <td>0.0</td>\n",
              "      <td>0.0</td>\n",
              "      <td>0.0</td>\n",
              "      <td>0.0</td>\n",
              "      <td>0.0</td>\n",
              "      <td>0.0</td>\n",
              "      <td>0.0</td>\n",
              "      <td>0.0</td>\n",
              "      <td>1.0</td>\n",
              "      <td>0.0</td>\n",
              "      <td>0.0</td>\n",
              "      <td>0.0</td>\n",
              "      <td>0.0</td>\n",
              "      <td>0.0</td>\n",
              "      <td>0.0</td>\n",
              "      <td>...</td>\n",
              "      <td>0.0</td>\n",
              "      <td>0.0</td>\n",
              "      <td>0.0</td>\n",
              "      <td>0.0</td>\n",
              "      <td>0.0</td>\n",
              "      <td>0.0</td>\n",
              "      <td>0.0</td>\n",
              "      <td>0.0</td>\n",
              "      <td>0.0</td>\n",
              "      <td>0.0</td>\n",
              "      <td>0.0</td>\n",
              "      <td>0.0</td>\n",
              "      <td>0.0</td>\n",
              "      <td>0.0</td>\n",
              "      <td>0.0</td>\n",
              "      <td>0.0</td>\n",
              "      <td>0.0</td>\n",
              "      <td>0.0</td>\n",
              "      <td>0.0</td>\n",
              "      <td>0.0</td>\n",
              "      <td>0.0</td>\n",
              "      <td>0.0</td>\n",
              "      <td>0.0</td>\n",
              "      <td>0.0</td>\n",
              "      <td>0.0</td>\n",
              "      <td>0.0</td>\n",
              "      <td>1.0</td>\n",
              "      <td>0.0</td>\n",
              "      <td>0.0</td>\n",
              "      <td>1.0</td>\n",
              "      <td>0.0</td>\n",
              "      <td>0.0</td>\n",
              "      <td>0.0</td>\n",
              "      <td>0.0</td>\n",
              "      <td>0.0</td>\n",
              "      <td>0.0</td>\n",
              "      <td>0.0</td>\n",
              "      <td>1.0</td>\n",
              "      <td>0.0</td>\n",
              "      <td>0.0</td>\n",
              "    </tr>\n",
              "  </tbody>\n",
              "</table>\n",
              "<p>4325 rows × 411 columns</p>\n",
              "</div>"
            ],
            "text/plain": [
              "      SET  PYJAMAS  SKIRT  NAN  ...  HOODED  OFF SHOULDER  HALTERNECK  TURTLENECK\n",
              "0     1.0      0.0    0.0  0.0  ...     0.0           0.0         0.0         0.0\n",
              "1     1.0      0.0    0.0  0.0  ...     0.0           0.0         0.0         0.0\n",
              "2     1.0      0.0    0.0  0.0  ...     0.0           0.0         0.0         0.0\n",
              "3     1.0      0.0    0.0  0.0  ...     0.0           0.0         0.0         0.0\n",
              "4     1.0      0.0    0.0  0.0  ...     0.0           0.0         0.0         0.0\n",
              "...   ...      ...    ...  ...  ...     ...           ...         ...         ...\n",
              "4320  0.0      0.0    0.0  1.0  ...     0.0           1.0         0.0         0.0\n",
              "4321  1.0      0.0    0.0  0.0  ...     1.0           0.0         0.0         0.0\n",
              "4322  0.0      0.0    0.0  0.0  ...     0.0           0.0         0.0         0.0\n",
              "4323  0.0      0.0    0.0  1.0  ...     0.0           1.0         0.0         0.0\n",
              "4324  0.0      0.0    0.0  1.0  ...     0.0           1.0         0.0         0.0\n",
              "\n",
              "[4325 rows x 411 columns]"
            ]
          },
          "metadata": {
            "tags": []
          },
          "execution_count": 43
        }
      ]
    },
    {
      "cell_type": "markdown",
      "metadata": {
        "id": "NVGhpHgK8jjH"
      },
      "source": [
        "# **`filtering clothes`**"
      ]
    },
    {
      "cell_type": "markdown",
      "metadata": {
        "id": "JFkwvY4-8v77"
      },
      "source": [
        "## **`filter by category`**"
      ]
    },
    {
      "cell_type": "markdown",
      "metadata": {
        "id": "2KGHbyKz88fm"
      },
      "source": [
        "### **`pyjama`**"
      ]
    },
    {
      "cell_type": "code",
      "metadata": {
        "colab": {
          "base_uri": "https://localhost:8080/"
        },
        "id": "K8asQQ6t83_a",
        "outputId": "a930e606-3117-4c33-a844-e2c7bb53ad99"
      },
      "source": [
        "items = []\r\n",
        "for i in merged.columns:\r\n",
        "  if 'PYJAMAS' in i:\r\n",
        "    items.append(i)\r\n",
        "pyjama_items = items\r\n",
        "pyjama_index = np.array(merged[merged[items].sum(axis=1)>=1].index.tolist())\r\n",
        "print(len(pyjama_index ),items)"
      ],
      "execution_count": 44,
      "outputs": [
        {
          "output_type": "stream",
          "text": [
            "489 ['PYJAMAS', 'SHORTPYJAMAS', 'LONGPYJAMAS', 'MEDIUMPYJAMAS', 'KNEEPYJAMAS', 'CAPRIPYJAMAS', '3/4LENGTHPYJAMAS', 'SHORTSLEEVEPYJAMAS', 'LONGSLEEVEPYJAMAS', 'TURNUPSLEEVEPYJAMAS', 'SLEEVELESSPYJAMAS', 'RAGLANSLEEVEPYJAMAS', 'CUPSLEEVEPYJAMAS', '3/4FLAREDPYJAMAS', 'FLAREDPYJAMAS', 'POLOCOLLARPYJAMAS', 'SHIRTCOLLARPYJAMAS', 'FLATKNITTEDRIBPYJAMAS', 'MAOCOLLARPYJAMAS', 'STANDUPCOLLARPYJAMAS', 'ROUNDNECKPYJAMAS', 'COLLARPYJAMAS', 'TURTLENECKPYJAMAS', 'HOODEDPYJAMAS', 'VNECKPYJAMAS', 'OFFSHOULDERPYJAMAS', 'HALTERNECKPYJAMAS']\n"
          ],
          "name": "stdout"
        }
      ]
    },
    {
      "cell_type": "markdown",
      "metadata": {
        "id": "6l1r2bRP9F1z"
      },
      "source": [
        "### **`shorts`**"
      ]
    },
    {
      "cell_type": "code",
      "metadata": {
        "colab": {
          "base_uri": "https://localhost:8080/"
        },
        "id": "Xa2L2_Sd9F8y",
        "outputId": "f9eb0f6c-820b-4068-80ab-5d6e79a9545b"
      },
      "source": [
        "items = []\r\n",
        "for i in merged.columns:\r\n",
        "  if 'SHORTS' in i:\r\n",
        "    items.append(i)\r\n",
        "shorts_items = items\r\n",
        "shorts_index = np.array(merged[merged[items].sum(axis=1)>=1].index.tolist())\r\n",
        "print(len(shorts_index ),items)"
      ],
      "execution_count": 45,
      "outputs": [
        {
          "output_type": "stream",
          "text": [
            "865 ['SHORTS', 'BERMUDA SHORTS', 'SHORTSET', 'SHORTSLEEVESET', 'SHORTBERMUDAS-SHORTS', 'LONGBERMUDAS-SHORTS', 'MEDIUMBERMUDAS-SHORTS', 'KNEEBERMUDAS-SHORTS', 'CAPRIBERMUDAS-SHORTS', '3/4LENGTHBERMUDAS-SHORTS', 'SHORTSLEEVEBERMUDAS-SHORTS', 'LONGSLEEVEBERMUDAS-SHORTS', 'TURNUPSLEEVEBERMUDAS-SHORTS', 'SLEEVELESSBERMUDAS-SHORTS', 'RAGLANSLEEVEBERMUDAS-SHORTS', 'CUPSLEEVEBERMUDAS-SHORTS', '3/4FLAREDBERMUDAS-SHORTS', 'FLAREDBERMUDAS-SHORTS', 'POLOCOLLARBERMUDAS-SHORTS', 'SHIRTCOLLARBERMUDAS-SHORTS', 'FLATKNITTEDRIBBERMUDAS-SHORTS', 'MAOCOLLARBERMUDAS-SHORTS', 'STANDUPCOLLARBERMUDAS-SHORTS', 'ROUNDNECKBERMUDAS-SHORTS', 'COLLARBERMUDAS-SHORTS', 'TURTLENECKBERMUDAS-SHORTS', 'HOODEDBERMUDAS-SHORTS', 'VNECKBERMUDAS-SHORTS', 'OFFSHOULDERBERMUDAS-SHORTS', 'HALTERNECKBERMUDAS-SHORTS', 'SHORTSLEEVEBLOUSES', 'SHORTSLEEVETROUSERS', 'SHORTSLEEVEROMPER', 'SHORTSHIRTS', 'SHORTSLEEVESHIRTS', 'SHORTSLEEVEOUTDOORCLOTHINGORCOAT', 'SHORTSLEEVECARDIGAN', 'SHORTSLEEVETRACKSUIT', 'SHORTSLEEVEDRESS', 'SHORTSLEEVELEGGINGS', 'SHORTSKIRT', 'SHORTSLEEVESKIRT', 'SHORTSWIMMINGSUITS', 'SHORTSLEEVESWIMMINGSUITS', 'SHORTSLEEVEPYJAMAS']\n"
          ],
          "name": "stdout"
        }
      ]
    },
    {
      "cell_type": "markdown",
      "metadata": {
        "id": "wCmZtCbQ9JL_"
      },
      "source": [
        "### **`skirt`**"
      ]
    },
    {
      "cell_type": "code",
      "metadata": {
        "colab": {
          "base_uri": "https://localhost:8080/"
        },
        "id": "WqL70uie9LRq",
        "outputId": "09811176-0f04-4a63-a1b9-7aca3aea7a58"
      },
      "source": [
        "items = []\r\n",
        "for i in merged.columns:\r\n",
        "  if 'SKIRT' in i:\r\n",
        "    items.append(i)\r\n",
        "skirt_items = items\r\n",
        "skirt_index = np.array(merged[merged[items].sum(axis=1)>=1].index.tolist())\r\n",
        "print(len(skirt_index ),items)\r\n"
      ],
      "execution_count": 46,
      "outputs": [
        {
          "output_type": "stream",
          "text": [
            "483 ['SKIRT', 'SKIRT SET', 'SHORTSKIRT', 'LONGSKIRT', 'MEDIUMSKIRT', 'KNEESKIRT', 'CAPRISKIRT', 'SHORTSLEEVESKIRT', 'LONGSLEEVESKIRT', 'TURNUPSLEEVESKIRT', 'SLEEVELESSSKIRT', 'RAGLANSLEEVESKIRT', 'CUPSLEEVESKIRT', '3/4FLAREDSKIRT', 'FLAREDSKIRT', 'POLOCOLLARSKIRT', 'SHIRTCOLLARSKIRT', 'FLATKNITTEDRIBSKIRT', 'MAOCOLLARSKIRT', 'STANDUPCOLLARSKIRT', 'ROUNDNECKSKIRT', 'COLLARSKIRT', 'TURTLENECKSKIRT', 'HOODEDSKIRT', 'VNECKSKIRT', 'OFFSHOULDERSKIRT', 'HALTERNECKSKIRT']\n"
          ],
          "name": "stdout"
        }
      ]
    },
    {
      "cell_type": "markdown",
      "metadata": {
        "id": "fEqF3hcl9Jy0"
      },
      "source": [
        "### **`dress`**"
      ]
    },
    {
      "cell_type": "code",
      "metadata": {
        "colab": {
          "base_uri": "https://localhost:8080/"
        },
        "id": "u_6vqCLf9OEj",
        "outputId": "67338bf3-ff93-4e64-d453-da738668000b"
      },
      "source": [
        "items = []\r\n",
        "for i in merged.columns:\r\n",
        "  if 'DRESS' in i:\r\n",
        "    items.append(i)\r\n",
        "dress_items = items\r\n",
        "dress_index = np.array(merged[merged[items].sum(axis=1)>=1].index.tolist())\r\n",
        "print(len(dress_index ),items)"
      ],
      "execution_count": 47,
      "outputs": [
        {
          "output_type": "stream",
          "text": [
            "1162 ['DRESS', 'SHORTDRESS', 'LONGDRESS', 'MEDIUMDRESS', 'KNEEDRESS', 'CAPRIDRESS', '3/4LENGTHDRESS', 'SHORTSLEEVEDRESS', 'LONGSLEEVEDRESS', 'TURNUPSLEEVEDRESS', 'SLEEVELESSDRESS', 'RAGLANSLEEVEDRESS', 'CUPSLEEVEDRESS', '3/4FLAREDDRESS', 'FLAREDDRESS', 'POLOCOLLARDRESS', 'SHIRTCOLLARDRESS', 'FLATKNITTEDRIBDRESS', 'MAOCOLLARDRESS', 'STANDUPCOLLARDRESS', 'ROUNDNECKDRESS', 'COLLARDRESS', 'TURTLENECKDRESS', 'HOODEDDRESS', 'VNECKDRESS', 'OFFSHOULDERDRESS', 'HALTERNECKDRESS']\n"
          ],
          "name": "stdout"
        }
      ]
    },
    {
      "cell_type": "markdown",
      "metadata": {
        "id": "SQIiLfGo9KCc"
      },
      "source": [
        "### **`trousers`**"
      ]
    },
    {
      "cell_type": "code",
      "metadata": {
        "colab": {
          "base_uri": "https://localhost:8080/"
        },
        "id": "aAurMdnD9SHf",
        "outputId": "7db8a733-3477-43dd-81bb-344ff62036a5"
      },
      "source": [
        "items = []\r\n",
        "for i in merged.columns:\r\n",
        "  if 'TROUSERS' in i:\r\n",
        "    items.append(i)\r\n",
        "trousers_items = items\r\n",
        "trousers_index = np.array(merged[merged[items].sum(axis=1)>=1].index.tolist())\r\n",
        "print(len(trousers_index ),items)"
      ],
      "execution_count": 48,
      "outputs": [
        {
          "output_type": "stream",
          "text": [
            "600 ['TROUSERS', 'SHORTTROUSERS', 'LONGTROUSERS', 'MEDIUMTROUSERS', 'KNEETROUSERS', 'CAPRITROUSERS', '3/4LENGTHTROUSERS', 'SHORTSLEEVETROUSERS', 'LONGSLEEVETROUSERS', 'TURNUPSLEEVETROUSERS', 'SLEEVELESSTROUSERS', 'RAGLANSLEEVETROUSERS', 'CUPSLEEVETROUSERS', '3/4FLAREDTROUSERS', 'FLAREDTROUSERS', 'POLOCOLLARTROUSERS', 'SHIRTCOLLARTROUSERS', 'FLATKNITTEDRIBTROUSERS', 'MAOCOLLARTROUSERS', 'STANDUPCOLLARTROUSERS', 'ROUNDNECKTROUSERS', 'COLLARTROUSERS', 'TURTLENECKTROUSERS', 'HOODEDTROUSERS', 'VNECKTROUSERS', 'HALTERNECKTROUSERS']\n"
          ],
          "name": "stdout"
        }
      ]
    },
    {
      "cell_type": "markdown",
      "metadata": {
        "id": "_mNBfa4B9KJ7"
      },
      "source": [
        "### **`shirts`**"
      ]
    },
    {
      "cell_type": "code",
      "metadata": {
        "colab": {
          "base_uri": "https://localhost:8080/"
        },
        "id": "gH4R-Rqn9WwS",
        "outputId": "751b527f-4fd5-4ceb-b085-ece0a52860d8"
      },
      "source": [
        "items = []\r\n",
        "for i in merged.columns:\r\n",
        "  if 'SHIRT' in i:\r\n",
        "    items.append(i)\r\n",
        "shirt_items = items\r\n",
        "shirt_index = np.array(merged[merged[items].sum(axis=1)>=1].index.tolist())\r\n",
        "print(len(shirt_index ),items)"
      ],
      "execution_count": 49,
      "outputs": [
        {
          "output_type": "stream",
          "text": [
            "1141 ['SHIRTS', 'SHIRT', 'T-SHIRT', 'SWEATSHIRT', 'SHIRTCOLLARSET', 'SHIRTCOLLARBERMUDAS-SHORTS', 'SHIRTCOLLARBLOUSES', 'SHIRTCOLLARTROUSERS', 'SHIRTCOLLARROMPER', 'SHORTSHIRTS', 'LONGSHIRTS', 'MEDIUMSHIRTS', 'KNEESHIRTS', 'CAPRISHIRTS', '3/4LENGTHSHIRTS', 'SHORTSLEEVESHIRTS', 'LONGSLEEVESHIRTS', 'TURNUPSLEEVESHIRTS', 'SLEEVELESSSHIRTS', 'RAGLANSLEEVESHIRTS', 'CUPSLEEVESHIRTS', '3/4FLAREDSHIRTS', 'FLAREDSHIRTS', 'POLOCOLLARSHIRTS', 'SHIRTCOLLARSHIRTS', 'FLATKNITTEDRIBSHIRTS', 'MAOCOLLARSHIRTS', 'STANDUPCOLLARSHIRTS', 'ROUNDNECKSHIRTS', 'COLLARSHIRTS', 'TURTLENECKSHIRTS', 'HOODEDSHIRTS', 'VNECKSHIRTS', 'OFFSHOULDERSHIRTS', 'HALTERNECKSHIRTS', 'SHIRTCOLLAROUTDOORCLOTHINGORCOAT', 'SHIRTCOLLARCARDIGAN', 'SHIRTCOLLARTRACKSUIT', 'SHIRTCOLLARDRESS', 'SHIRTCOLLARLEGGINGS', 'SHIRTCOLLARSKIRT', 'SHIRTCOLLARSWIMMINGSUITS', 'SHIRTCOLLARPYJAMAS']\n"
          ],
          "name": "stdout"
        }
      ]
    },
    {
      "cell_type": "markdown",
      "metadata": {
        "id": "_grfpcUN9KPs"
      },
      "source": [
        "### **`leggings`**"
      ]
    },
    {
      "cell_type": "code",
      "metadata": {
        "colab": {
          "base_uri": "https://localhost:8080/"
        },
        "id": "WpsYq9bx9Y3G",
        "outputId": "dd8432e2-21db-408c-ffd4-fffbf686e412"
      },
      "source": [
        "items = []\r\n",
        "for i in merged.columns:\r\n",
        "  if 'LEGGINGS' in i:\r\n",
        "    items.append(i)\r\n",
        "leg_items = items\r\n",
        "leg_index = np.array(merged[merged[items].sum(axis=1)>=1].index.tolist())\r\n",
        "len(leg_index)"
      ],
      "execution_count": 50,
      "outputs": [
        {
          "output_type": "execute_result",
          "data": {
            "text/plain": [
              "538"
            ]
          },
          "metadata": {
            "tags": []
          },
          "execution_count": 50
        }
      ]
    },
    {
      "cell_type": "markdown",
      "metadata": {
        "id": "73eklCY29KU7"
      },
      "source": [
        "### **`swimming suit`**"
      ]
    },
    {
      "cell_type": "code",
      "metadata": {
        "colab": {
          "base_uri": "https://localhost:8080/"
        },
        "id": "AVkr4xBM9eKs",
        "outputId": "153774c7-3c26-4ec8-8b9a-fa64e9a35dc8"
      },
      "source": [
        "items = []\r\n",
        "for i in merged.columns:\r\n",
        "  if 'SWIMMING' in i:\r\n",
        "    items.append(i)\r\n",
        "    \r\n",
        "    ## to much noise here\r\n",
        "items.remove('TURNUPSLEEVESWIMMINGSUITS')\r\n",
        "items.remove('FLAREDSWIMMINGSUITS')\r\n",
        "items.remove('MAOCOLLARSWIMMINGSUITS')\r\n",
        "items.remove('STANDUPCOLLARSWIMMINGSUITS')\r\n",
        "items.remove('COLLARSWIMMINGSUITS')\r\n",
        "sw_items = items\r\n",
        "\r\n",
        "sw_index = np.array(merged[merged[items].sum(axis=1)>=1].index.tolist())\r\n",
        "len(sw_index)"
      ],
      "execution_count": 51,
      "outputs": [
        {
          "output_type": "execute_result",
          "data": {
            "text/plain": [
              "319"
            ]
          },
          "metadata": {
            "tags": []
          },
          "execution_count": 51
        }
      ]
    },
    {
      "cell_type": "markdown",
      "metadata": {
        "id": "-JUhqQBw9KaE"
      },
      "source": [
        "### **`romper`**"
      ]
    },
    {
      "cell_type": "code",
      "metadata": {
        "colab": {
          "base_uri": "https://localhost:8080/"
        },
        "id": "pwdth0Vj-Jji",
        "outputId": "137b3b88-ca6f-4d33-e88e-cbb90bfa4e7b"
      },
      "source": [
        "items = []\r\n",
        "for i in merged.columns:\r\n",
        "  if 'ROMPER' in i:\r\n",
        "    items.append(i)\r\n",
        "ro_items = items\r\n",
        "ro_index = np.array(merged[merged[items].sum(axis=1)>=1].index.tolist())\r\n",
        "print(len(ro_index),ro_items)"
      ],
      "execution_count": 52,
      "outputs": [
        {
          "output_type": "stream",
          "text": [
            "445 ['ROMPER', 'SHORTROMPER', 'LONGROMPER', 'MEDIUMROMPER', 'KNEEROMPER', 'CAPRIROMPER', '3/4LENGTHROMPER', 'SHORTSLEEVEROMPER', 'LONGSLEEVEROMPER', 'TURNUPSLEEVEROMPER', 'SLEEVELESSROMPER', 'RAGLANSLEEVEROMPER', 'CUPSLEEVEROMPER', '3/4FLAREDROMPER', 'FLAREDROMPER', 'POLOCOLLARROMPER', 'SHIRTCOLLARROMPER', 'FLATKNITTEDRIBROMPER', 'MAOCOLLARROMPER', 'STANDUPCOLLARROMPER', 'ROUNDNECKROMPER', 'COLLARROMPER', 'TURTLENECKROMPER', 'HOODEDROMPER', 'VNECKROMPER', 'OFFSHOULDERROMPER', 'HALTERNECKROMPER']\n"
          ],
          "name": "stdout"
        }
      ]
    },
    {
      "cell_type": "markdown",
      "metadata": {
        "id": "09E6Zdho9Ke-"
      },
      "source": [
        "### **`coat`**"
      ]
    },
    {
      "cell_type": "code",
      "metadata": {
        "colab": {
          "base_uri": "https://localhost:8080/"
        },
        "id": "xN2yyKB4-M4T",
        "outputId": "46c88169-92c5-443d-8436-dc879c4d0e86"
      },
      "source": [
        "items = []\r\n",
        "for i in merged.columns:\r\n",
        "  if 'COAT' in i:\r\n",
        "    items.append(i)\r\n",
        "coat_items = items\r\n",
        "coat_index = np.array(merged[merged[items].sum(axis=1)>=1].index.tolist())\r\n",
        "print(len(coat_index),coat_items)"
      ],
      "execution_count": 53,
      "outputs": [
        {
          "output_type": "stream",
          "text": [
            "386 ['SHORTOUTDOORCLOTHINGORCOAT', 'LONGOUTDOORCLOTHINGORCOAT', 'MEDIUMOUTDOORCLOTHINGORCOAT', 'KNEEOUTDOORCLOTHINGORCOAT', 'CAPRIOUTDOORCLOTHINGORCOAT', '3/4LENGTHOUTDOORCLOTHINGORCOAT', 'SHORTSLEEVEOUTDOORCLOTHINGORCOAT', 'LONGSLEEVEOUTDOORCLOTHINGORCOAT', 'TURNUPSLEEVEOUTDOORCLOTHINGORCOAT', 'SLEEVELESSOUTDOORCLOTHINGORCOAT', 'RAGLANSLEEVEOUTDOORCLOTHINGORCOAT', 'CUPSLEEVEOUTDOORCLOTHINGORCOAT', '3/4FLAREDOUTDOORCLOTHINGORCOAT', 'FLAREDOUTDOORCLOTHINGORCOAT', 'POLOCOLLAROUTDOORCLOTHINGORCOAT', 'SHIRTCOLLAROUTDOORCLOTHINGORCOAT', 'FLATKNITTEDRIBOUTDOORCLOTHINGORCOAT', 'MAOCOLLAROUTDOORCLOTHINGORCOAT', 'STANDUPCOLLAROUTDOORCLOTHINGORCOAT', 'ROUNDNECKOUTDOORCLOTHINGORCOAT', 'COLLAROUTDOORCLOTHINGORCOAT', 'TURTLENECKOUTDOORCLOTHINGORCOAT', 'HOODEDOUTDOORCLOTHINGORCOAT', 'VNECKOUTDOORCLOTHINGORCOAT', 'OFFSHOULDEROUTDOORCLOTHINGORCOAT', 'HALTERNECKOUTDOORCLOTHINGORCOAT']\n"
          ],
          "name": "stdout"
        }
      ]
    },
    {
      "cell_type": "markdown",
      "metadata": {
        "id": "Etfu0H7H9Kj1"
      },
      "source": [
        "### **`cardigan`**"
      ]
    },
    {
      "cell_type": "code",
      "metadata": {
        "colab": {
          "base_uri": "https://localhost:8080/"
        },
        "id": "zfogYPBx-RAC",
        "outputId": "b7ee7ea8-fad9-4e5c-bd1c-e848587359d1"
      },
      "source": [
        "items = []\r\n",
        "for i in merged.columns:\r\n",
        "  if 'CARDIGAN' in i:\r\n",
        "    items.append(i)\r\n",
        "cardigan_items = items\r\n",
        "cardigan_index = np.array(merged[merged[items].sum(axis=1)>=1].index.tolist())\r\n",
        "print(len(cardigan_index),cardigan_items)"
      ],
      "execution_count": 54,
      "outputs": [
        {
          "output_type": "stream",
          "text": [
            "417 ['CARDIGAN', 'SHORTCARDIGAN', 'LONGCARDIGAN', 'MEDIUMCARDIGAN', 'KNEECARDIGAN', 'CAPRICARDIGAN', '3/4LENGTHCARDIGAN', 'SHORTSLEEVECARDIGAN', 'LONGSLEEVECARDIGAN', 'TURNUPSLEEVECARDIGAN', 'RAGLANSLEEVECARDIGAN', 'CUPSLEEVECARDIGAN', '3/4FLAREDCARDIGAN', 'FLAREDCARDIGAN', 'POLOCOLLARCARDIGAN', 'SHIRTCOLLARCARDIGAN', 'FLATKNITTEDRIBCARDIGAN', 'MAOCOLLARCARDIGAN', 'STANDUPCOLLARCARDIGAN', 'ROUNDNECKCARDIGAN', 'COLLARCARDIGAN', 'TURTLENECKCARDIGAN', 'HOODEDCARDIGAN', 'VNECKCARDIGAN', 'OFFSHOULDERCARDIGAN', 'HALTERNECKCARDIGAN']\n"
          ],
          "name": "stdout"
        }
      ]
    },
    {
      "cell_type": "markdown",
      "metadata": {
        "id": "cYHtYjzT-ULF"
      },
      "source": [
        "### **`blouses`**"
      ]
    },
    {
      "cell_type": "code",
      "metadata": {
        "colab": {
          "base_uri": "https://localhost:8080/"
        },
        "id": "xVYVbq5--Wk4",
        "outputId": "45ea9ddf-33a8-49bd-e2ad-0a79bce8ba3a"
      },
      "source": [
        "\r\n",
        "items = []\r\n",
        "for i in merged.columns:\r\n",
        "  if 'BLOUSES' in i:\r\n",
        "    items.append(i)\r\n",
        "blou_items = items\r\n",
        "blou_index = np.array(merged[merged[items].sum(axis=1)>=1].index.tolist())\r\n",
        "print(len(blou_index),blou_items)"
      ],
      "execution_count": 56,
      "outputs": [
        {
          "output_type": "stream",
          "text": [
            "435 ['SHORTBLOUSES', 'LONGBLOUSES', 'MEDIUMBLOUSES', 'KNEEBLOUSES', 'CAPRIBLOUSES', '3/4LENGTHBLOUSES', 'SHORTSLEEVEBLOUSES', 'LONGSLEEVEBLOUSES', 'TURNUPSLEEVEBLOUSES', 'SLEEVELESSBLOUSES', 'RAGLANSLEEVEBLOUSES', 'CUPSLEEVEBLOUSES', '3/4FLAREDBLOUSES', 'FLAREDBLOUSES', 'POLOCOLLARBLOUSES', 'SHIRTCOLLARBLOUSES', 'FLATKNITTEDRIBBLOUSES', 'MAOCOLLARBLOUSES', 'STANDUPCOLLARBLOUSES', 'ROUNDNECKBLOUSES', 'COLLARBLOUSES', 'TURTLENECKBLOUSES', 'HOODEDBLOUSES', 'VNECKBLOUSES', 'OFFSHOULDERBLOUSES', 'HALTERNECKBLOUSES']\n"
          ],
          "name": "stdout"
        }
      ]
    },
    {
      "cell_type": "markdown",
      "metadata": {
        "id": "6rj9q_L7-UU8"
      },
      "source": [
        "### **`tracksuit`**"
      ]
    },
    {
      "cell_type": "code",
      "metadata": {
        "colab": {
          "base_uri": "https://localhost:8080/"
        },
        "id": "ZSB5tFmO-YH2",
        "outputId": "af33ef27-afea-4fd7-fc83-ba294bfde415"
      },
      "source": [
        "items = []\r\n",
        "for i in merged.columns:\r\n",
        "  if 'TRACKSUIT' in i:\r\n",
        "    items.append(i)\r\n",
        "track_items = items\r\n",
        "track_index = np.array(merged[merged[items].sum(axis=1)>=1].index.tolist())\r\n",
        "print(len(track_index),track_items)"
      ],
      "execution_count": 55,
      "outputs": [
        {
          "output_type": "stream",
          "text": [
            "371 ['TRACKSUIT', 'SHORTTRACKSUIT', 'LONGTRACKSUIT', 'MEDIUMTRACKSUIT', 'KNEETRACKSUIT', 'CAPRITRACKSUIT', '3/4LENGTHTRACKSUIT', 'SHORTSLEEVETRACKSUIT', 'LONGSLEEVETRACKSUIT', 'TURNUPSLEEVETRACKSUIT', 'SLEEVELESSTRACKSUIT', 'RAGLANSLEEVETRACKSUIT', 'CUPSLEEVETRACKSUIT', '3/4FLAREDTRACKSUIT', 'FLAREDTRACKSUIT', 'POLOCOLLARTRACKSUIT', 'SHIRTCOLLARTRACKSUIT', 'FLATKNITTEDRIBTRACKSUIT', 'MAOCOLLARTRACKSUIT', 'STANDUPCOLLARTRACKSUIT', 'ROUNDNECKTRACKSUIT', 'COLLARTRACKSUIT', 'TURTLENECKTRACKSUIT', 'HOODEDTRACKSUIT', 'VNECKTRACKSUIT', 'OFFSHOULDERTRACKSUIT', 'HALTERNECKTRACKSUIT']\n"
          ],
          "name": "stdout"
        }
      ]
    },
    {
      "cell_type": "code",
      "metadata": {
        "colab": {
          "base_uri": "https://localhost:8080/",
          "height": 695
        },
        "id": "bECXas6nXq7D",
        "outputId": "5f9bc71a-21b1-4077-b457-1b0b8819c856"
      },
      "source": [
        " "
      ],
      "execution_count": null,
      "outputs": [
        {
          "output_type": "display_data",
          "data": {
            "image/png": "[encoded data removed]",
            "text/plain": [
              "<Figure size 864x864 with 1 Axes>"
            ]
          },
          "metadata": {
            "tags": []
          }
        }
      ]
    },
    {
      "cell_type": "markdown",
      "metadata": {
        "id": "A9wuMm5V-rIz"
      },
      "source": [
        "# **`filtering clothes `**\r\n",
        "\r\n",
        "Here we keep only clothes that belong to one category"
      ]
    },
    {
      "cell_type": "code",
      "metadata": {
        "id": "JEt7fXRUxkl1",
        "colab": {
          "base_uri": "https://localhost:8080/"
        },
        "outputId": "6a775317-2fee-479c-bdca-95be481049cc"
      },
      "source": [
        "# PYJAMAS - done\n",
        "only_py1 = set(pyjama_index) - set(trousers_index) - set(dress_index) - set(shirt_index) - set(skirt_index) - set(ro_index)- set(cardigan_index)- set(sw_index) - set(coat_index) - set(blou_index)-set(shorts_index)-set(track_index)\n",
        "only_py2 = merged.loc[merged['PYJAMAS']>=1].index.tolist()\n",
        "only_py = list(only_py1.union(only_py2) - set([3673]))\n",
        "print(len(only_py))"
      ],
      "execution_count": 57,
      "outputs": [
        {
          "output_type": "stream",
          "text": [
            "110\n"
          ],
          "name": "stdout"
        }
      ]
    },
    {
      "cell_type": "code",
      "metadata": {
        "id": "BZEWfdtf3mBs",
        "colab": {
          "base_uri": "https://localhost:8080/"
        },
        "outputId": "f165b39e-37b9-4eb6-db10-12b9a91ea750"
      },
      "source": [
        "# SKIRT + DRESS  - done\n",
        "only_sd1 = (set(skirt_index) & set(dress_index)) - set(trousers_index) - set(shirt_index) - set(pyjama_index) - set(ro_index)- set(cardigan_index)- set(sw_index) - set(coat_index) - set(blou_index)-set(shorts_index)-set(track_index)\n",
        "only_sd2 = set(merged.loc[merged['SKIRT']>=1].index.tolist())\n",
        "only_sd3 = set(merged.loc[merged['DRESS']>=1].index.tolist())\n",
        "only_sd = only_sd1.union(only_sd2)\n",
        "only_sd = list(only_sd.union(only_sd3))\n",
        "print(len(only_sd))"
      ],
      "execution_count": 58,
      "outputs": [
        {
          "output_type": "stream",
          "text": [
            "1206\n"
          ],
          "name": "stdout"
        }
      ]
    },
    {
      "cell_type": "code",
      "metadata": {
        "id": "Uear_R50DsKv",
        "colab": {
          "base_uri": "https://localhost:8080/"
        },
        "outputId": "23c9c649-a40b-48d2-e6ef-7841ecc8f666"
      },
      "source": [
        "# SHORTS  - done\n",
        "only_shorts1 = set(shorts_index) - set(trousers_index) - set(dress_index) - set(shirt_index) - set(skirt_index) - set(ro_index)- set(cardigan_index)- set(sw_index) - set(coat_index) - set(blou_index)-set(pyjama_index)-set(track_index)\n",
        "only_shorts2 = set(merged.loc[merged['SHORTS']>=1].index.tolist())\n",
        "only_shorts = list(only_shorts1.union(only_shorts2) - set([468]))\n",
        "\n",
        "len(only_shorts)"
      ],
      "execution_count": 59,
      "outputs": [
        {
          "output_type": "execute_result",
          "data": {
            "text/plain": [
              "197"
            ]
          },
          "metadata": {
            "tags": []
          },
          "execution_count": 59
        }
      ]
    },
    {
      "cell_type": "code",
      "metadata": {
        "id": "LRZDJJitLJxP",
        "colab": {
          "base_uri": "https://localhost:8080/"
        },
        "outputId": "7a06c109-f6ff-4010-877b-e8ef67300d40"
      },
      "source": [
        "# SWIMMING  - done\n",
        "only_sw1 = set(sw_index) - set(trousers_index) - set(dress_index) - set(shirt_index) - set(skirt_index) - set(ro_index)- set(cardigan_index)- set(shorts_index) - set(coat_index) - set(blou_index)-set(pyjama_index)-set(track_index)\n",
        "only_sw2 = merged[(merged['SWIMSUIT']>=1) | (merged['BIKINI']>=1)].index.tolist()\n",
        "only_sw = list(only_sw1.union(only_sw2) - set([4023,4042,4043,4069,4079,4080,4083,4084,4085,4086,4087,4088]))\n",
        "\n",
        "len(only_sw)"
      ],
      "execution_count": 60,
      "outputs": [
        {
          "output_type": "execute_result",
          "data": {
            "text/plain": [
              "81"
            ]
          },
          "metadata": {
            "tags": []
          },
          "execution_count": 60
        }
      ]
    },
    {
      "cell_type": "code",
      "metadata": {
        "colab": {
          "base_uri": "https://localhost:8080/"
        },
        "id": "8vqGlrgOcctN",
        "outputId": "93480530-496a-4d4b-dcd8-9f6871c495f8"
      },
      "source": [
        "# TROUSERS - done\n",
        "only_trousers = list(set(trousers_index) - set(shorts_index) - set(coat_index) - set(dress_index) - set(shirt_index) - set(skirt_index) - set(ro_index)- set(cardigan_index)- set(sw_index)  - set(blou_index)-set(pyjama_index)-set(track_index))\n",
        "only_trousers = merged.loc[only_trousers][merged.loc[only_trousers]['BIKINI']<1].index.tolist()\n",
        "len(only_trousers)"
      ],
      "execution_count": 61,
      "outputs": [
        {
          "output_type": "execute_result",
          "data": {
            "text/plain": [
              "213"
            ]
          },
          "metadata": {
            "tags": []
          },
          "execution_count": 61
        }
      ]
    },
    {
      "cell_type": "code",
      "metadata": {
        "id": "Bzu0bn_-LJWT",
        "colab": {
          "base_uri": "https://localhost:8080/"
        },
        "outputId": "6dfcca12-fd61-4b17-943f-6db012959db3"
      },
      "source": [
        "# COATS  - done\n",
        "only_coats = list(set(coat_index) - set([2201,2209,2210,2211,2212,2213,2215,2216,2218,2229])- set(trousers_index) - set(dress_index) - set(shirt_index) - set(skirt_index) - set(ro_index)- set(cardigan_index)- set(sw_index) - set(shorts_index) - set(blou_index)-set(pyjama_index)-set(track_index))\n",
        "len(only_coats)"
      ],
      "execution_count": 62,
      "outputs": [
        {
          "output_type": "execute_result",
          "data": {
            "text/plain": [
              "118"
            ]
          },
          "metadata": {
            "tags": []
          },
          "execution_count": 62
        }
      ]
    },
    {
      "cell_type": "code",
      "metadata": {
        "colab": {
          "base_uri": "https://localhost:8080/"
        },
        "id": "jpIvenlHmLLB",
        "outputId": "0e9b0d62-2761-456d-b004-64af4b643729"
      },
      "source": [
        "# ROMPER  - done\n",
        "only_ro = list(set(ro_index) -set(trousers_index) - set(dress_index) - set(shirt_index) - set(skirt_index) - set(coat_index)- set(cardigan_index)- set(sw_index) - set(shorts_index) - set(blou_index)-set(pyjama_index)-set(track_index)- set([1536,1540,1541,1543,1552,1553,1555,1556,1584,81,1629,1630,1631,1632,1633,1634,1635,1636,1637,1638,1639,1640,1641,1642,1463,1464,1465,1466,1468,1469,1472,1480,1478,1481,1483,1528]))\n",
        "len(only_ro)"
      ],
      "execution_count": 63,
      "outputs": [
        {
          "output_type": "execute_result",
          "data": {
            "text/plain": [
              "187"
            ]
          },
          "metadata": {
            "tags": []
          },
          "execution_count": 63
        }
      ]
    },
    {
      "cell_type": "code",
      "metadata": {
        "colab": {
          "base_uri": "https://localhost:8080/"
        },
        "id": "NF_RuTcrj_Nx",
        "outputId": "c44e9282-94dc-4e98-a8fc-00953659ca62"
      },
      "source": [
        "# SHIRTS - done\n",
        "only_shirts = list(set(shirt_index) - set(trousers_index) - set(dress_index) - set(coat_index) - set(skirt_index) - set(ro_index)- set(cardigan_index)- set(sw_index) - set(shorts_index) - set(blou_index)-set(pyjama_index)-set(track_index))\n",
        "only_shirts =  merged.loc[only_shirts][merged.loc[only_shirts]['SHIRT']==1].index.tolist()\n",
        "only_shirts = list(set(only_shirts) - set([2054,2065,2069,2077,2082,2108,2117,199,200,207,213,214,217,224,229,1989,1990,1992]))\n",
        "len(only_shirts)"
      ],
      "execution_count": 64,
      "outputs": [
        {
          "output_type": "execute_result",
          "data": {
            "text/plain": [
              "147"
            ]
          },
          "metadata": {
            "tags": []
          },
          "execution_count": 64
        }
      ]
    },
    {
      "cell_type": "code",
      "metadata": {
        "colab": {
          "base_uri": "https://localhost:8080/"
        },
        "id": "65EghbICp2O-",
        "outputId": "31146d06-5c3a-4ad8-8f93-e084cfe9e309"
      },
      "source": [
        "# BLOUS  - done\n",
        "only_blou = list(set(blou_index) - set(trousers_index) - set(dress_index) - set(coat_index) - set(skirt_index) - set(ro_index)- set(cardigan_index)- set(sw_index) - set(shorts_index) - set(track_index)-set(pyjama_index)-set(shirt_index))\n",
        "len(only_blou)"
      ],
      "execution_count": 65,
      "outputs": [
        {
          "output_type": "execute_result",
          "data": {
            "text/plain": [
              "333"
            ]
          },
          "metadata": {
            "tags": []
          },
          "execution_count": 65
        }
      ]
    },
    {
      "cell_type": "code",
      "metadata": {
        "colab": {
          "base_uri": "https://localhost:8080/"
        },
        "id": "lNAwG_-Dv4xa",
        "outputId": "7ce19931-9a6d-4814-b541-88e2d769d5df"
      },
      "source": [
        "# leggings  - done\n",
        "only_leg = list(set(leg_index) - set(blou_index)- set(trousers_index) - set(dress_index) - set(coat_index) - set(skirt_index) - set(ro_index)- set(cardigan_index)- set(sw_index) - set(shorts_index) - set(track_index)-set(pyjama_index)-set(shirt_index)- set([2201,2209,2210,2211,2212,2213,2215,2216,2218,2229])- set([2054,2065,2069,2077,2082,2108,2117,199,200,207,213,214,217,224,229,1989,1990,1992]) - set([142,146,387,3722,3721,3641,3671,3669,3668,3670,3635]))\n",
        "len(only_leg)"
      ],
      "execution_count": 66,
      "outputs": [
        {
          "output_type": "execute_result",
          "data": {
            "text/plain": [
              "105"
            ]
          },
          "metadata": {
            "tags": []
          },
          "execution_count": 66
        }
      ]
    },
    {
      "cell_type": "markdown",
      "metadata": {
        "id": "wMbGkTss--DM"
      },
      "source": [
        "# **`final dataframe with filtering `**"
      ]
    },
    {
      "cell_type": "code",
      "metadata": {
        "colab": {
          "base_uri": "https://localhost:8080/",
          "height": 206
        },
        "id": "9aC6KgwR--IO",
        "outputId": "0b008d15-abfe-4bd2-dd74-5d764ee215f7"
      },
      "source": [
        "df = pd.DataFrame(columns=['id','category'])\r\n",
        "\r\n",
        "\r\n",
        "for i in only_leg:\r\n",
        "  df = df.append(pd.DataFrame(data=[[i,'leg']],columns=['id','category']))\r\n",
        "for i in only_blou:\r\n",
        "  df = df.append(pd.DataFrame(data=[[i,'blou']],columns=['id','category']))\r\n",
        "for i in only_shirts:\r\n",
        "  df = df.append(pd.DataFrame(data=[[i,'shirts']],columns=['id','category']))\r\n",
        "for i in only_ro:\r\n",
        "  df = df.append(pd.DataFrame(data=[[i,'ro']],columns=['id','category']))\r\n",
        "for i in only_trousers:\r\n",
        "  df = df.append(pd.DataFrame(data=[[i,'trousers']],columns=['id','category']))\r\n",
        "for i in only_shorts:\r\n",
        "  df = df.append(pd.DataFrame(data=[[i,'shorts']],columns=['id','category']))\r\n",
        "for i in only_coats:\r\n",
        "  df = df.append(pd.DataFrame(data=[[i,'coats']],columns=['id','category']))\r\n",
        "for i in only_sw:\r\n",
        "  df = df.append(pd.DataFrame(data=[[i,'sw']],columns=['id','category']))\r\n",
        "for i in only_sd:\r\n",
        "  df = df.append(pd.DataFrame(data=[[i,'sd']],columns=['id','category']))\r\n",
        "for i in only_py:\r\n",
        "  df = df.append(pd.DataFrame(data=[[i,'pyj']],columns=['id','category']))\r\n",
        "df = df.reset_index()\r\n",
        "df = df.drop(columns='index')\r\n",
        "\r\n",
        " \r\n",
        "df.head(5)"
      ],
      "execution_count": 70,
      "outputs": [
        {
          "output_type": "execute_result",
          "data": {
            "text/html": [
              "<div>\n",
              "<style scoped>\n",
              "    .dataframe tbody tr th:only-of-type {\n",
              "        vertical-align: middle;\n",
              "    }\n",
              "\n",
              "    .dataframe tbody tr th {\n",
              "        vertical-align: top;\n",
              "    }\n",
              "\n",
              "    .dataframe thead th {\n",
              "        text-align: right;\n",
              "    }\n",
              "</style>\n",
              "<table border=\"1\" class=\"dataframe\">\n",
              "  <thead>\n",
              "    <tr style=\"text-align: right;\">\n",
              "      <th></th>\n",
              "      <th>id</th>\n",
              "      <th>category</th>\n",
              "    </tr>\n",
              "  </thead>\n",
              "  <tbody>\n",
              "    <tr>\n",
              "      <th>0</th>\n",
              "      <td>3586</td>\n",
              "      <td>leg</td>\n",
              "    </tr>\n",
              "    <tr>\n",
              "      <th>1</th>\n",
              "      <td>3587</td>\n",
              "      <td>leg</td>\n",
              "    </tr>\n",
              "    <tr>\n",
              "      <th>2</th>\n",
              "      <td>3589</td>\n",
              "      <td>leg</td>\n",
              "    </tr>\n",
              "    <tr>\n",
              "      <th>3</th>\n",
              "      <td>3590</td>\n",
              "      <td>leg</td>\n",
              "    </tr>\n",
              "    <tr>\n",
              "      <th>4</th>\n",
              "      <td>3592</td>\n",
              "      <td>leg</td>\n",
              "    </tr>\n",
              "  </tbody>\n",
              "</table>\n",
              "</div>"
            ],
            "text/plain": [
              "     id category\n",
              "0  3586      leg\n",
              "1  3587      leg\n",
              "2  3589      leg\n",
              "3  3590      leg\n",
              "4  3592      leg"
            ]
          },
          "metadata": {
            "tags": []
          },
          "execution_count": 70
        }
      ]
    }
  ]
}